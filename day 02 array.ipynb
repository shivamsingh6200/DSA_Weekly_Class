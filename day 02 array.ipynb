{
 "cells": [
  {
   "cell_type": "code",
   "execution_count": 7,
   "id": "a228e218",
   "metadata": {},
   "outputs": [],
   "source": [
    "def sumarr(arr):\n",
    "    sum1=0\n",
    "    for i in arr:\n",
    "        sum1+=i\n",
    "    return sum1"
   ]
  },
  {
   "cell_type": "code",
   "execution_count": 8,
   "id": "a0eb7c9e",
   "metadata": {},
   "outputs": [
    {
     "data": {
      "text/plain": [
       "28"
      ]
     },
     "execution_count": 8,
     "metadata": {},
     "output_type": "execute_result"
    }
   ],
   "source": [
    "sumarr([1,2,3,4,5,6,7])"
   ]
  },
  {
   "cell_type": "markdown",
   "id": "eafa5074",
   "metadata": {},
   "source": [
    "### linear search\n"
   ]
  },
  {
   "cell_type": "code",
   "execution_count": 14,
   "id": "75635570",
   "metadata": {},
   "outputs": [
    {
     "name": "stdout",
     "output_type": "stream",
     "text": [
      "available at index 5\n"
     ]
    }
   ],
   "source": [
    "def linsearch(arr,target):\n",
    "    for i in range(len(arr)):\n",
    "        if arr[i]==target:\n",
    "            return i\n",
    "    return -1\n",
    "\n",
    "arr=[12,13,8,15,2,22,9,19]\n",
    "target=22\n",
    "result=linsearch(arr,target)\n",
    "if result == -1 :\n",
    "    print(\"not found\")\n",
    "else:\n",
    "    print(\"available at index\",result)"
   ]
  },
  {
   "cell_type": "markdown",
   "id": "2fedb447",
   "metadata": {},
   "source": [
    "# matrix"
   ]
  },
  {
   "cell_type": "markdown",
   "id": "0e576441",
   "metadata": {},
   "source": [
    "#### matrix diagonal sum"
   ]
  },
  {
   "cell_type": "code",
   "execution_count": 25,
   "id": "84285002",
   "metadata": {},
   "outputs": [
    {
     "name": "stdout",
     "output_type": "stream",
     "text": [
      "Primary Diagnoal Sum = 32\n",
      "Seconday Diagnoal Sum = 31\n"
     ]
    }
   ],
   "source": [
    "##print diagonal sum\n",
    "\n",
    "def diagonalsum(arr):\n",
    "    n=len(arr)\n",
    "    primarydiagsum=0\n",
    "    secondarydiagsum=0\n",
    "    for i in range(n):\n",
    "        for j in range(n):\n",
    "            if i==j:\n",
    "                primarydiagsum+=arr[i][j]\n",
    "            if ((i+j) == (n-1)):\n",
    "                secondarydiagsum+=arr[i][j]\n",
    "    print(\"Primary Diagnoal Sum =\",primarydiagsum)\n",
    "    print(\"Seconday Diagnoal Sum =\",secondarydiagsum)\n",
    "    return\n",
    "\n",
    "\n",
    "mat1=[[2,4,6],[8,11,13],[14,17,19]]\n",
    "diagonalsum(mat1)"
   ]
  },
  {
   "cell_type": "code",
   "execution_count": null,
   "id": "c6998f41",
   "metadata": {},
   "outputs": [],
   "source": []
  },
  {
   "cell_type": "code",
   "execution_count": null,
   "id": "927761ac",
   "metadata": {},
   "outputs": [],
   "source": []
  }
 ],
 "metadata": {
  "kernelspec": {
   "display_name": "Python 3 (ipykernel)",
   "language": "python",
   "name": "python3"
  },
  "language_info": {
   "codemirror_mode": {
    "name": "ipython",
    "version": 3
   },
   "file_extension": ".py",
   "mimetype": "text/x-python",
   "name": "python",
   "nbconvert_exporter": "python",
   "pygments_lexer": "ipython3",
   "version": "3.11.5"
  }
 },
 "nbformat": 4,
 "nbformat_minor": 5
}
