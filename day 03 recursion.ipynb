{
 "cells": [
  {
   "cell_type": "code",
   "execution_count": 1,
   "id": "3ecc41b5",
   "metadata": {},
   "outputs": [
    {
     "name": "stdout",
     "output_type": "stream",
     "text": [
      "120\n"
     ]
    }
   ],
   "source": [
    "##factorial of given no.\n",
    "##Method definition via recursion\n",
    "def fact(n):\n",
    "    ## 1. Base case condition\n",
    "    if n <= 1:\n",
    "        return 1\n",
    "    \n",
    "    ## 2. Recusive function call\n",
    "    else:\n",
    "        return n*fact(n-1)\n",
    "\n",
    "\n",
    "##Driver code\n",
    "n=5\n",
    "result=fact(n)\n",
    "print(result)"
   ]
  },
  {
   "cell_type": "code",
   "execution_count": 6,
   "id": "75f02ca7",
   "metadata": {},
   "outputs": [
    {
     "name": "stdout",
     "output_type": "stream",
     "text": [
      "34\n"
     ]
    }
   ],
   "source": [
    "##fibonacci \n",
    "##method definition via reccursion\n",
    "def fibo(n):\n",
    "    ## 1. Base case condition\n",
    "    if n<=1:\n",
    "        return n\n",
    "    \n",
    "    ## 2. Recusive function call\n",
    "    else:\n",
    "        return fibo(n-1)+fibo(n-2)\n",
    "\n",
    "\n",
    "##driver code\n",
    "n=9\n",
    "result=fibo(n)\n",
    "print(result)"
   ]
  },
  {
   "cell_type": "code",
   "execution_count": null,
   "id": "494f7f3b",
   "metadata": {},
   "outputs": [],
   "source": []
  }
 ],
 "metadata": {
  "kernelspec": {
   "display_name": "Python 3 (ipykernel)",
   "language": "python",
   "name": "python3"
  },
  "language_info": {
   "codemirror_mode": {
    "name": "ipython",
    "version": 3
   },
   "file_extension": ".py",
   "mimetype": "text/x-python",
   "name": "python",
   "nbconvert_exporter": "python",
   "pygments_lexer": "ipython3",
   "version": "3.11.5"
  }
 },
 "nbformat": 4,
 "nbformat_minor": 5
}
