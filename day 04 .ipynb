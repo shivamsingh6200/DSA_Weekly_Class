{
 "cells": [
  {
   "cell_type": "code",
   "execution_count": 1,
   "id": "9bfd3fbb",
   "metadata": {
    "scrolled": true
   },
   "outputs": [],
   "source": [
    "##sum of digits\n",
    "##method definition\n",
    "def sumofdig(n):\n",
    "    ## 1. Base case condition\n",
    "    if n<10:\n",
    "        return n\n",
    "    \n",
    "    ## 2. recursive function call\n",
    "    else:\n",
    "        return n%10 + sumofdig(n//10)\n",
    "\n",
    "##Driver code\n",
    "n=1234\n",
    "result=sumofdig(n)\n",
    "print(result)"
   ]
  },
  {
   "cell_type": "code",
   "execution_count": 2,
   "id": "47918819",
   "metadata": {},
   "outputs": [
    {
     "name": "stdout",
     "output_type": "stream",
     "text": [
      "1048576\n"
     ]
    }
   ],
   "source": [
    "##power of a number\n",
    "##method definition\n",
    "def powerof(num,power):\n",
    "    ## 1. Base case condition\n",
    "    if power==0:\n",
    "        return 1\n",
    "    \n",
    "    ## 2. recursive frunction call\n",
    "    else:\n",
    "        return num*powerof(num,power-1)\n",
    "\n",
    "##driver code \n",
    "num=2\n",
    "power=20\n",
    "result=powerof(num,power)\n",
    "print(result)"
   ]
  },
  {
   "cell_type": "code",
   "execution_count": 4,
   "id": "1de4f694",
   "metadata": {},
   "outputs": [
    {
     "name": "stdout",
     "output_type": "stream",
     "text": [
      "1606938044258990275541962092341162602522202993782792835301376\n"
     ]
    }
   ],
   "source": [
    "##power of a number\n",
    "##method definition\n",
    "def powerof1(b,p):\n",
    "    ## 1. Base case condition\n",
    "    if p==1:\n",
    "        return b\n",
    "    \n",
    "    ## 2. recursive frunction call\n",
    "    else:\n",
    "        mid=p//2\n",
    "        res=powerof1(b,mid)\n",
    "        finalres=res*res\n",
    "        if p%2==0:\n",
    "            return finalres\n",
    "        else:\n",
    "            return b*finalres\n",
    "\n",
    "##driver code \n",
    "b=2\n",
    "p=200\n",
    "result2=powerof1(b,p)\n",
    "print(result2)"
   ]
  },
  {
   "cell_type": "code",
   "execution_count": 7,
   "id": "3ad8ab0d",
   "metadata": {},
   "outputs": [],
   "source": [
    "s=-19"
   ]
  },
  {
   "cell_type": "code",
   "execution_count": 8,
   "id": "239224d4",
   "metadata": {},
   "outputs": [
    {
     "data": {
      "text/plain": [
       "19"
      ]
     },
     "execution_count": 8,
     "metadata": {},
     "output_type": "execute_result"
    }
   ],
   "source": [
    "abs(s)"
   ]
  },
  {
   "cell_type": "code",
   "execution_count": null,
   "id": "f14c527c",
   "metadata": {},
   "outputs": [],
   "source": []
  }
 ],
 "metadata": {
  "kernelspec": {
   "display_name": "Python 3 (ipykernel)",
   "language": "python",
   "name": "python3"
  },
  "language_info": {
   "codemirror_mode": {
    "name": "ipython",
    "version": 3
   },
   "file_extension": ".py",
   "mimetype": "text/x-python",
   "name": "python",
   "nbconvert_exporter": "python",
   "pygments_lexer": "ipython3",
   "version": "3.11.5"
  }
 },
 "nbformat": 4,
 "nbformat_minor": 5
}
