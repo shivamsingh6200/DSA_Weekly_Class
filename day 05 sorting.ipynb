{
 "cells": [
  {
   "cell_type": "markdown",
   "id": "7712679f",
   "metadata": {},
   "source": [
    "# bubble sort"
   ]
  },
  {
   "cell_type": "code",
   "execution_count": 16,
   "id": "47ed4a69",
   "metadata": {
    "scrolled": true
   },
   "outputs": [
    {
     "name": "stdout",
     "output_type": "stream",
     "text": [
      "2 4 5 6 7\n"
     ]
    }
   ],
   "source": [
    "##method definition\n",
    "def bubble_sort(arr):\n",
    "    for i in range(len(arr)-1,0,-1):\n",
    "        for j in range(i):\n",
    "            if (arr[j]>arr[j+1]):\n",
    "                arr[j],arr[j+1]=arr[j+1],arr[j]\n",
    "    print(*arr)\n",
    "                \n",
    "\n",
    "##driver code\n",
    "arr=[7,4,6,5,2]\n",
    "bubble_sort(arr)\n"
   ]
  },
  {
   "cell_type": "code",
   "execution_count": null,
   "id": "750b9e00",
   "metadata": {},
   "outputs": [],
   "source": []
  },
  {
   "cell_type": "code",
   "execution_count": 17,
   "id": "70ebca1a",
   "metadata": {},
   "outputs": [
    {
     "name": "stdout",
     "output_type": "stream",
     "text": [
      "array is sorted\n",
      "1 2 3 4 5\n"
     ]
    }
   ],
   "source": [
    "##method definition\n",
    "def bubble_sort_optimized(arr):\n",
    "    for i in range(len(arr)-1,0,-1):\n",
    "        isSorted=True\n",
    "        for j in range(i):\n",
    "            if (arr[j]>arr[j+1]):\n",
    "                isSorted=False\n",
    "                arr[j],arr[j+1]=arr[j+1],arr[j]\n",
    "        if isSorted:\n",
    "            print(\"array is sorted\")\n",
    "            break\n",
    "    print(*arr)\n",
    "                \n",
    "\n",
    "##driver code\n",
    "arr=[1,2,3,4,5]\n",
    "bubble_sort_optimized(arr)"
   ]
  },
  {
   "cell_type": "code",
   "execution_count": null,
   "id": "e9a807a3",
   "metadata": {},
   "outputs": [],
   "source": []
  },
  {
   "cell_type": "markdown",
   "id": "a0656451",
   "metadata": {},
   "source": [
    "# Selection sort"
   ]
  },
  {
   "cell_type": "code",
   "execution_count": 18,
   "id": "90dbe311",
   "metadata": {},
   "outputs": [
    {
     "name": "stdout",
     "output_type": "stream",
     "text": [
      "1 2 5 6 8 9\n"
     ]
    }
   ],
   "source": [
    "##method definition\n",
    "def selection_sort(arr):\n",
    "    for i in range(len(arr)):\n",
    "        min=i\n",
    "        for j in range(i+1,len(arr)):\n",
    "            if arr[j] < arr[min]:\n",
    "                min=j\n",
    "        arr[i],arr[min]=arr[min],arr[i]\n",
    "    print(*arr)\n",
    "            \n",
    "                \n",
    "\n",
    "##driver code\n",
    "arr=[5,6,8,9,2,1]\n",
    "selection_sort(arr)"
   ]
  },
  {
   "cell_type": "code",
   "execution_count": null,
   "id": "a55af578",
   "metadata": {},
   "outputs": [],
   "source": []
  },
  {
   "cell_type": "markdown",
   "id": "2f10efcb",
   "metadata": {},
   "source": [
    "# Insertion sort or online sorting algorithm"
   ]
  },
  {
   "cell_type": "code",
   "execution_count": 19,
   "id": "fc9a850b",
   "metadata": {},
   "outputs": [
    {
     "name": "stdout",
     "output_type": "stream",
     "text": [
      "1 2 5 6 8 9\n"
     ]
    }
   ],
   "source": [
    "##method definition\n",
    "def insertion_sort(arr):\n",
    "    for i in range(1,len(arr)):\n",
    "        key=arr[i]\n",
    "        j=i\n",
    "        while(j>0 and arr[j-1]>key):\n",
    "            arr[j]=arr[j-1]\n",
    "            j=j-1\n",
    "        arr[j]=key\n",
    "    print(*arr)\n",
    "            \n",
    "                \n",
    "\n",
    "##driver code\n",
    "arr=[5,6,8,9,2,1]\n",
    "insertion_sort(arr)"
   ]
  },
  {
   "cell_type": "code",
   "execution_count": null,
   "id": "4b262e5e",
   "metadata": {},
   "outputs": [],
   "source": []
  },
  {
   "cell_type": "markdown",
   "id": "be28dda9",
   "metadata": {},
   "source": [
    "# Linear Search"
   ]
  },
  {
   "cell_type": "code",
   "execution_count": 2,
   "id": "4bbdce26",
   "metadata": {},
   "outputs": [
    {
     "data": {
      "text/plain": [
       "3"
      ]
     },
     "execution_count": 2,
     "metadata": {},
     "output_type": "execute_result"
    }
   ],
   "source": [
    "##method definition\n",
    "def lin_search(arr,num):\n",
    "    for i in range(len(arr)):\n",
    "        if arr[i]==num:\n",
    "            return i\n",
    "    return -1\n",
    "            \n",
    "                \n",
    "\n",
    "##driver code\n",
    "arr=[5,6,8,9,2,1]\n",
    "num=9\n",
    "lin_search(arr,num)"
   ]
  },
  {
   "cell_type": "code",
   "execution_count": null,
   "id": "3c9875e0",
   "metadata": {},
   "outputs": [],
   "source": []
  },
  {
   "cell_type": "markdown",
   "id": "82bf847e",
   "metadata": {},
   "source": [
    "# Binary search"
   ]
  },
  {
   "cell_type": "code",
   "execution_count": 5,
   "id": "ae0df30f",
   "metadata": {},
   "outputs": [
    {
     "data": {
      "text/plain": [
       "8"
      ]
     },
     "execution_count": 5,
     "metadata": {},
     "output_type": "execute_result"
    }
   ],
   "source": [
    "##method definition\n",
    "def binary_search(arr,num):\n",
    "        left=0\n",
    "        right=len(arr)-1\n",
    "        while left<=right:\n",
    "            mid=int(left+(right-left)/2)\n",
    "            if arr[mid]==num:\n",
    "                return mid\n",
    "            elif arr[mid]>num:\n",
    "                right=mid-1\n",
    "            else:\n",
    "                left=mid+1\n",
    "            \n",
    "                \n",
    "\n",
    "##driver code\n",
    "arr=[1,2,3,4,22,44,106,281,999]\n",
    "num=999\n",
    "binary_search(arr,num)"
   ]
  },
  {
   "cell_type": "code",
   "execution_count": null,
   "id": "261bf75f",
   "metadata": {},
   "outputs": [],
   "source": []
  }
 ],
 "metadata": {
  "kernelspec": {
   "display_name": "Python 3 (ipykernel)",
   "language": "python",
   "name": "python3"
  },
  "language_info": {
   "codemirror_mode": {
    "name": "ipython",
    "version": 3
   },
   "file_extension": ".py",
   "mimetype": "text/x-python",
   "name": "python",
   "nbconvert_exporter": "python",
   "pygments_lexer": "ipython3",
   "version": "3.11.5"
  }
 },
 "nbformat": 4,
 "nbformat_minor": 5
}
