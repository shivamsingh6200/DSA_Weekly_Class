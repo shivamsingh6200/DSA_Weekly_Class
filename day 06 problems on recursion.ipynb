{
 "cells": [
  {
   "cell_type": "markdown",
   "id": "a515c2c6",
   "metadata": {},
   "source": [
    "# Recursion"
   ]
  },
  {
   "cell_type": "markdown",
   "id": "51d06738",
   "metadata": {},
   "source": [
    "## Print array by recusrion"
   ]
  },
  {
   "cell_type": "code",
   "execution_count": 32,
   "id": "4be25e23",
   "metadata": {},
   "outputs": [
    {
     "name": "stdout",
     "output_type": "stream",
     "text": [
      "1\n",
      "2\n",
      "3\n",
      "4\n",
      "5\n",
      "6\n"
     ]
    }
   ],
   "source": [
    "##method definition\n",
    "def printarray(arr):\n",
    "    print(arr[0])\n",
    "    ##base condition\n",
    "    if len(arr)==1:\n",
    "        return\n",
    "    \n",
    "    ##Recusive function call\n",
    "    printarray(arr[1::])\n",
    "        \n",
    "\n",
    "##driver code\n",
    "arr=[1,2,3,4,5,6]\n",
    "printarray(arr)"
   ]
  },
  {
   "cell_type": "markdown",
   "id": "14ec680a",
   "metadata": {},
   "source": [
    "## Print array in reverse by recusrion"
   ]
  },
  {
   "cell_type": "code",
   "execution_count": 33,
   "id": "2c126f54",
   "metadata": {},
   "outputs": [
    {
     "name": "stdout",
     "output_type": "stream",
     "text": [
      "6\n",
      "5\n",
      "4\n",
      "3\n",
      "2\n",
      "1\n"
     ]
    }
   ],
   "source": [
    "##method definition\n",
    "def printarray(arr):\n",
    "    ##base condition\n",
    "    if len(arr)==0:\n",
    "        return\n",
    "    \n",
    "    ##Recusive function call\n",
    "    printarray(arr[1::])\n",
    "    print(arr[0])\n",
    "        \n",
    "\n",
    "##driver code\n",
    "arr=[1,2,3,4,5,6]\n",
    "printarray(arr)"
   ]
  },
  {
   "cell_type": "markdown",
   "id": "a4ed59a3",
   "metadata": {},
   "source": [
    "## Linear search by recursion"
   ]
  },
  {
   "cell_type": "code",
   "execution_count": 3,
   "id": "c137b16d",
   "metadata": {},
   "outputs": [
    {
     "data": {
      "text/plain": [
       "4"
      ]
     },
     "execution_count": 3,
     "metadata": {},
     "output_type": "execute_result"
    }
   ],
   "source": [
    "##method definition\n",
    "def lin_search(arr,ser,si):\n",
    "    ##base condition\n",
    "    if arr[0]==ser:\n",
    "        return si\n",
    "    elif len(arr)==1:\n",
    "        return f\"not found\"\n",
    "    \n",
    "    ##Recusive function call\n",
    "    else:\n",
    "        return lin_search(arr[1::],ser,si+1)\n",
    "        \n",
    "\n",
    "##driver code\n",
    "arr=[1,2,3,4,5,6]\n",
    "ser=5\n",
    "lin_search(arr,ser,0)"
   ]
  },
  {
   "cell_type": "markdown",
   "id": "afd254a6",
   "metadata": {},
   "source": [
    "## Find the smallest using recursion"
   ]
  },
  {
   "cell_type": "code",
   "execution_count": 43,
   "id": "c81ee380",
   "metadata": {},
   "outputs": [
    {
     "data": {
      "text/plain": [
       "1"
      ]
     },
     "execution_count": 43,
     "metadata": {},
     "output_type": "execute_result"
    }
   ],
   "source": [
    "##method definition\n",
    "def smallest_no(arr,si):\n",
    "    ##base condition\n",
    "    if si>=len(arr):\n",
    "        return arr[si-1]\n",
    "    \n",
    "    ##Recusive function call\n",
    "    return min(arr[si],smallest_no(arr,si+1))\n",
    "\n",
    "##driver code\n",
    "arr=[3,5,2,1,4]\n",
    "smallest_no(arr,0)"
   ]
  },
  {
   "cell_type": "markdown",
   "id": "a6c866f4",
   "metadata": {},
   "source": [
    "## Tower of hanoi using recursion"
   ]
  },
  {
   "cell_type": "code",
   "execution_count": 55,
   "id": "07b7a0dd",
   "metadata": {},
   "outputs": [
    {
     "name": "stdout",
     "output_type": "stream",
     "text": [
      "7\n"
     ]
    }
   ],
   "source": [
    "def moves(n,s,d,a):\n",
    "    ##base condition\n",
    "    if n==1:\n",
    "        return 1\n",
    "    \n",
    "    ##Recusive function call\n",
    "    #move n-1 coin s->a, then move 1 biggest coin s->d and then n-1 coin a->d\n",
    "    return moves(n-1,s,a,d) + 1 + moves(n-1,a,d,s)\n",
    "\n",
    "##driver code\n",
    "print(moves(3,'s','d','a'))"
   ]
  },
  {
   "cell_type": "code",
   "execution_count": null,
   "id": "25e74336",
   "metadata": {},
   "outputs": [],
   "source": []
  }
 ],
 "metadata": {
  "kernelspec": {
   "display_name": "Python 3 (ipykernel)",
   "language": "python",
   "name": "python3"
  },
  "language_info": {
   "codemirror_mode": {
    "name": "ipython",
    "version": 3
   },
   "file_extension": ".py",
   "mimetype": "text/x-python",
   "name": "python",
   "nbconvert_exporter": "python",
   "pygments_lexer": "ipython3",
   "version": "3.11.5"
  }
 },
 "nbformat": 4,
 "nbformat_minor": 5
}
