{
 "cells": [
  {
   "cell_type": "markdown",
   "id": "cd4c4b29",
   "metadata": {},
   "source": [
    "## lin search by recursion"
   ]
  },
  {
   "cell_type": "code",
   "execution_count": 2,
   "id": "cffafd7c",
   "metadata": {},
   "outputs": [
    {
     "data": {
      "text/plain": [
       "4"
      ]
     },
     "execution_count": 2,
     "metadata": {},
     "output_type": "execute_result"
    }
   ],
   "source": [
    "##method definition\n",
    "def lin_search(arr,ser,si):\n",
    "    ##base condition\n",
    "    if arr[0]==ser:\n",
    "        return si\n",
    "    elif len(arr)==1:\n",
    "        return f\"not found\"\n",
    "    \n",
    "    ##Recusive function call\n",
    "    else:\n",
    "        return lin_search(arr[1::],ser,si+1)\n",
    "        \n",
    "\n",
    "##driver code\n",
    "arr=[1,2,3,4,5,6]\n",
    "ser=5\n",
    "lin_search(arr,ser,0)"
   ]
  },
  {
   "cell_type": "markdown",
   "id": "ec5bda4c",
   "metadata": {},
   "source": [
    "## Binary search by recursion"
   ]
  },
  {
   "cell_type": "code",
   "execution_count": 5,
   "id": "51e27b00",
   "metadata": {},
   "outputs": [
    {
     "data": {
      "text/plain": [
       "8"
      ]
     },
     "execution_count": 5,
     "metadata": {},
     "output_type": "execute_result"
    }
   ],
   "source": [
    "##method definition\n",
    "def bin_search(arr,left,right,search):\n",
    "    ##base condition\n",
    "    if left>right:\n",
    "        return -1\n",
    "    \n",
    "    ##Recusive function call\n",
    "    mid=int(left + (right-left)/2)\n",
    "    if arr[mid]==search:\n",
    "        return mid\n",
    "    elif arr[mid]>search:\n",
    "        return bin_search(arr,left,mid-1,search)\n",
    "    else:\n",
    "        return bin_search(arr,mid+1,right,search)\n",
    "    \n",
    "\n",
    "##driver code\n",
    "arr=[1,2,22,34,36,41,44,55,57,68,96]\n",
    "search=57\n",
    "bin_search(arr,0,len(arr)-1,search)"
   ]
  },
  {
   "cell_type": "markdown",
   "id": "7cb92cb4",
   "metadata": {},
   "source": [
    "## [4,2,1,5,3] reverse without any inbuilt function"
   ]
  },
  {
   "cell_type": "code",
   "execution_count": 6,
   "id": "7ef13b2e",
   "metadata": {},
   "outputs": [],
   "source": [
    "arr=[4,2,1,5,3] #immutable"
   ]
  },
  {
   "cell_type": "code",
   "execution_count": 14,
   "id": "a50d9cf3",
   "metadata": {},
   "outputs": [
    {
     "name": "stdout",
     "output_type": "stream",
     "text": [
      "3\n",
      "5\n",
      "1\n",
      "2\n",
      "4\n"
     ]
    }
   ],
   "source": [
    "count=0\n",
    "for i in arr:\n",
    "    count+=1\n",
    "while count >0:\n",
    "    count-=1\n",
    "    print(arr[count])"
   ]
  },
  {
   "cell_type": "code",
   "execution_count": 18,
   "id": "0896d648",
   "metadata": {},
   "outputs": [
    {
     "name": "stdout",
     "output_type": "stream",
     "text": [
      "[5, 4, 3, 2, 1]\n"
     ]
    }
   ],
   "source": [
    "##double pointer method\n",
    "##method definition\n",
    "def reversearr(arr):\n",
    "    i=0\n",
    "    j=len(arr)-1\n",
    "    while(i<j):\n",
    "        #swap elements at i and j index\n",
    "        arr[i],arr[j]=arr[j],arr[i]\n",
    "        i+=1\n",
    "        j-=1\n",
    "\n",
    "#driver code\n",
    "arr=[1,2,3,4,5]\n",
    "reversearr(arr)\n",
    "print(arr)"
   ]
  },
  {
   "cell_type": "code",
   "execution_count": 20,
   "id": "f5786fe3",
   "metadata": {},
   "outputs": [
    {
     "name": "stdout",
     "output_type": "stream",
     "text": [
      "5\n",
      "4\n",
      "3\n",
      "2\n",
      "1\n"
     ]
    }
   ],
   "source": [
    "##by recursion\n",
    "##method definition\n",
    "def reversearr_recursion(arr,si):\n",
    "    ##base condition\n",
    "    if si>=len(arr):\n",
    "        return\n",
    "    ##recursive function call\n",
    "    reversearr_recursion(arr,si+1)\n",
    "    print(arr[si])\n",
    "    \n",
    "    \n",
    "##driver code\n",
    "arr=[1,2,3,4,5]\n",
    "reversearr_recursion(arr,0)"
   ]
  },
  {
   "cell_type": "code",
   "execution_count": 28,
   "id": "0b56ba6e",
   "metadata": {},
   "outputs": [
    {
     "name": "stdout",
     "output_type": "stream",
     "text": [
      "palindrome\n"
     ]
    }
   ],
   "source": [
    "##double pointer method\n",
    "##method definition\n",
    "def palin(arr):\n",
    "    i=0\n",
    "    j=len(arr)-1\n",
    "    while(i<j):\n",
    "        if arr[i]!=arr[j]:\n",
    "            print(\"not palindrome\")\n",
    "            return\n",
    "        i+=1\n",
    "        j-=1\n",
    "    print(\"palindrome\")\n",
    "    return\n",
    "\n",
    "#driver code\n",
    "arr=[1,2,3,3,2,1]\n",
    "palin(arr)"
   ]
  },
  {
   "cell_type": "markdown",
   "id": "a3ff2597",
   "metadata": {},
   "source": [
    "## arr rotate k time problem L->R"
   ]
  },
  {
   "cell_type": "code",
   "execution_count": 75,
   "id": "a53a7d97",
   "metadata": {},
   "outputs": [],
   "source": [
    "arr=[1,2,3,4,5]\n",
    "k=2\n",
    "##output=[4,5,1,2,3]"
   ]
  },
  {
   "cell_type": "code",
   "execution_count": 80,
   "id": "35bc5e5b",
   "metadata": {},
   "outputs": [
    {
     "name": "stdout",
     "output_type": "stream",
     "text": [
      "[4, 5, 1, 2, 3]\n"
     ]
    }
   ],
   "source": [
    "##method definition\n",
    "def arr_rotate(arr,k):\n",
    "    k=k%len(arr)\n",
    "    for i in range(k):\n",
    "        temp=arr[len(arr)-1]\n",
    "        for j in range(len(arr)-1,0,-1):\n",
    "            arr[j]=arr[j-1]\n",
    "        arr[0]=temp\n",
    "        \n",
    "##driver code\n",
    "arr=[1,2,3,4,5]\n",
    "k=2\n",
    "arr_rotate(arr,k)\n",
    "print(arr)"
   ]
  },
  {
   "cell_type": "code",
   "execution_count": 81,
   "id": "0942a77a",
   "metadata": {},
   "outputs": [],
   "source": [
    "##or we can reverse the array then reverse the first k elements and then reverse the left elements"
   ]
  },
  {
   "cell_type": "code",
   "execution_count": 86,
   "id": "1c07b165",
   "metadata": {},
   "outputs": [],
   "source": [
    "##array reverse method\n",
    "def reverse_rec(arr, sI, eI):\n",
    "    if sI >= eI :\n",
    "        return\n",
    "    arr[sI],arr[eI] = arr[eI],arr[sI]\n",
    "    reverse_rec(arr,sI+1,eI-1)"
   ]
  },
  {
   "cell_type": "code",
   "execution_count": 87,
   "id": "db17ea2c",
   "metadata": {},
   "outputs": [
    {
     "name": "stdout",
     "output_type": "stream",
     "text": [
      "[4, 5, 1, 2, 3]\n"
     ]
    }
   ],
   "source": [
    "##method definition\n",
    "def rotate_k_times(arr,k):\n",
    "    k=k%len(arr)\n",
    "    \n",
    "    ##reverse whole array\n",
    "    reverse_rec(arr,0,len(arr)-1)\n",
    "    \n",
    "    ##reverse first k elements\n",
    "    reverse_rec(arr,0,k-1)\n",
    "    \n",
    "    ##reverse last n-k elements\n",
    "    reverse_rec(arr,k,len(arr)-1)\n",
    "    \n",
    "##driver code\n",
    "arr=[1,2,3,4,5]\n",
    "k=2\n",
    "rotate_k_times(arr,k)\n",
    "print(arr)"
   ]
  },
  {
   "cell_type": "code",
   "execution_count": null,
   "id": "83b5c9e2",
   "metadata": {},
   "outputs": [],
   "source": []
  }
 ],
 "metadata": {
  "kernelspec": {
   "display_name": "Python 3 (ipykernel)",
   "language": "python",
   "name": "python3"
  },
  "language_info": {
   "codemirror_mode": {
    "name": "ipython",
    "version": 3
   },
   "file_extension": ".py",
   "mimetype": "text/x-python",
   "name": "python",
   "nbconvert_exporter": "python",
   "pygments_lexer": "ipython3",
   "version": "3.11.5"
  }
 },
 "nbformat": 4,
 "nbformat_minor": 5
}
