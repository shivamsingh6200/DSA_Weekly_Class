{
 "cells": [
  {
   "cell_type": "markdown",
   "id": "82a44492",
   "metadata": {},
   "source": [
    "Problem 1. Find the Rotation Count in Rotated Sorted array Input: arr[] = {15, 18, 2, 3, 6, 12} Output: 2 Explanation: Initial array must be {2, 3, 6, 12, 15, 18}. We get the given array after rotating the initial array twice."
   ]
  },
  {
   "cell_type": "code",
   "execution_count": 9,
   "id": "ccc4684e",
   "metadata": {},
   "outputs": [
    {
     "name": "stdout",
     "output_type": "stream",
     "text": [
      "2\n"
     ]
    }
   ],
   "source": [
    "##method definition\n",
    "def rotation_count(arr):\n",
    "    for i in range(1,len(arr)):\n",
    "        if arr[i-1]>arr[i]:\n",
    "            return i\n",
    "\n",
    "##driver code\n",
    "arr=[15,18,2,3,6,12]\n",
    "print(rotation_count(arr))"
   ]
  },
  {
   "cell_type": "code",
   "execution_count": 3,
   "id": "a113ff6d",
   "metadata": {},
   "outputs": [
    {
     "name": "stdout",
     "output_type": "stream",
     "text": [
      "2\n"
     ]
    }
   ],
   "source": [
    "##Using binary search\n",
    "##method definition\n",
    "def rotation_count_binary(arr):\n",
    "    left=0\n",
    "    right=len(arr)-1\n",
    "    while left<=right:\n",
    "        mid=int(left +(right-left)/2)\n",
    "        if arr[mid]<arr[mid-1] and arr[mid]<arr[mid+1]:\n",
    "            return mid\n",
    "        elif arr[mid]>arr[left] and arr[mid]>arr[right]:\n",
    "            left=mid+1\n",
    "        else:\n",
    "            right=mid-1\n",
    "\n",
    "\n",
    "##driver code\n",
    "arr=[15,18,2,3,6,12]\n",
    "print(rotation_count_binary(arr))"
   ]
  },
  {
   "cell_type": "markdown",
   "id": "07f8435d",
   "metadata": {},
   "source": [
    "Problem 2 : Given an array of integers, print the array in such a way that the first element is first maximum and second element is first minimum and so on. Examples : Input : arr[] = {7, 1, 2, 3, 4, 5, 6} Output : 7 1 6 2 5 3 4"
   ]
  },
  {
   "cell_type": "code",
   "execution_count": 13,
   "id": "d1eefc5c",
   "metadata": {},
   "outputs": [
    {
     "name": "stdout",
     "output_type": "stream",
     "text": [
      "7 1 6 2 5 3 4 "
     ]
    }
   ],
   "source": [
    "def bubble_sort(arr):\n",
    "    for i in range(len(arr)-1,0,-1):\n",
    "        for j in range(i):\n",
    "            if (arr[j]>arr[j+1]):\n",
    "                arr[j],arr[j+1]=arr[j+1],arr[j]\n",
    "                \n",
    "                \n",
    "def array_print(arr):\n",
    "    bubble_sort(arr)\n",
    "    i=0\n",
    "    j=len(arr)-1\n",
    "    while(i<=j):\n",
    "        if i==j:\n",
    "            print (arr[i], end=\" \")\n",
    "        else:\n",
    "            print(arr[j], end=\" \")\n",
    "            print(arr[i], end=\" \")\n",
    "        j-=1\n",
    "        i+=1\n",
    "\n",
    "##driver code\n",
    "arr=[7,1,2,3,4,5,6]\n",
    "array_print(arr)"
   ]
  },
  {
   "cell_type": "markdown",
   "id": "8167fe72",
   "metadata": {},
   "source": [
    "Problem 3 : Sort an array in wave form Given an unsorted array of integers, sort the array into a wave like array. An array ‘arr[0..n-1]’ is sorted in wave form if arr[0] >= arr[1] <= arr[2] >= arr[3] <= arr[4] >= ….. Examples: Input: arr[] = {10, 5, 6, 3, 2, 20, 100, 80} Output: arr[] = {10, 5, 6, 2, 20, 3, 100, 80} OR {20, 5, 10, 2, 80, 6, 100, 3} OR any other array that is in wave form"
   ]
  },
  {
   "cell_type": "code",
   "execution_count": 36,
   "id": "69e0db5b",
   "metadata": {},
   "outputs": [
    {
     "name": "stdout",
     "output_type": "stream",
     "text": [
      "[2, 5, 3, 10, 6, 80, 20, 100]\n"
     ]
    }
   ],
   "source": [
    "def bubble_sort(arr):\n",
    "    for i in range(len(arr)-1,0,-1):\n",
    "        for j in range(i):\n",
    "            if (arr[j]>arr[j+1]):\n",
    "                arr[j],arr[j+1]=arr[j+1],arr[j]\n",
    "                \n",
    "def arr_wave(arr):\n",
    "    bubble_sort(arr)\n",
    "    i=1\n",
    "    while i<len(arr)-1:\n",
    "        arr[i],arr[i+1]=arr[i+1],arr[i]\n",
    "        i=i+2\n",
    "        \n",
    "    \n",
    "##driver code\n",
    "arr=[10,5,6,3,2,20,100,80]\n",
    "arr_wave(arr)\n",
    "print(arr)"
   ]
  },
  {
   "cell_type": "code",
   "execution_count": 61,
   "id": "df1da3f1",
   "metadata": {},
   "outputs": [
    {
     "name": "stdout",
     "output_type": "stream",
     "text": [
      "[5, 10, 3, 6, 2, 100, 20, 500, 80]\n"
     ]
    }
   ],
   "source": [
    "#another method in time complexity O(n)\n",
    "def arr_wave_2(arr):\n",
    "    for i in range(0,len(arr),2):\n",
    "        if i==len(arr)-1:\n",
    "                arr[i],arr[i-1]=arr[i-1],arr[i]\n",
    "        elif arr[i]>arr[i-1]:\n",
    "            arr[i],arr[i-1]=arr[i-1],arr[i]\n",
    "        elif arr[i]>arr[i+1]:\n",
    "            arr[i],arr[i+1]=arr[i+1],arr[i]\n",
    "                \n",
    "##driver code\n",
    "arr=[10, 5, 6, 3, 2, 20, 100, 80,500]\n",
    "arr_wave_2(arr)\n",
    "print(arr)"
   ]
  },
  {
   "cell_type": "markdown",
   "id": "f23ad34f",
   "metadata": {},
   "source": [
    "Problem 4 : Merge an array of size n into another array of size m+n in sorted order"
   ]
  },
  {
   "cell_type": "code",
   "execution_count": 75,
   "id": "bced5b2c",
   "metadata": {
    "scrolled": true
   },
   "outputs": [
    {
     "name": "stdout",
     "output_type": "stream",
     "text": [
      "[2, 3, 4, 6, 9]\n"
     ]
    }
   ],
   "source": [
    "##method definition\n",
    "def arr_merge(arr1,m,arr2,n):\n",
    "    i=m-1\n",
    "    j=n-1\n",
    "    k=m+n-1\n",
    "    while i>=0 and j>=0:\n",
    "        if arr1[i]>arr2[j]:\n",
    "            arr1[k]=arr1[i]\n",
    "            i-=1\n",
    "        elif arr1[i]<arr2[j]:\n",
    "            arr1[k]=arr2[j]\n",
    "            j-=1\n",
    "        k-=1\n",
    "    while i>=0:\n",
    "        arr1[k]=arr1[i]\n",
    "        k -= 1\n",
    "        i -= 1\n",
    "    while j>=0:\n",
    "        arr1[k]=arr2[j]\n",
    "        k -= 1\n",
    "        j -= 1\n",
    "    \n",
    "    \n",
    "\n",
    "#driver code\n",
    "arr1=[3,6,9,-1,-1]\n",
    "arr2=[2,4]\n",
    "arr_merge(arr1,3,arr2,2)\n",
    "print(arr1)"
   ]
  },
  {
   "cell_type": "markdown",
   "id": "376aed53",
   "metadata": {},
   "source": [
    "Problem 5 : Sort an array containing two types of elements We are given an array of 0s and 1s in random order. Segregate 0s on left side and 1s on right side of the array. Traverse array only once. Examples: Input : arr[] = [0, 1, 0, 1, 0, 0, 1, 1, 1, 0] Output : arr[] = [0, 0, 0, 0, 0, 1, 1, 1, 1, 1]"
   ]
  },
  {
   "cell_type": "code",
   "execution_count": 76,
   "id": "865b96dc",
   "metadata": {},
   "outputs": [
    {
     "name": "stdout",
     "output_type": "stream",
     "text": [
      "[0, 0, 0, 0, 0, 1, 1, 1, 1, 1]\n"
     ]
    }
   ],
   "source": [
    "##method definition\n",
    "def arr_arrange(arr):\n",
    "    left=0\n",
    "    right=len(arr)-1\n",
    "    while left<right:\n",
    "        if arr[left]==1 and arr[right]==0:\n",
    "            arr[left],arr[right]=arr[right],arr[left]\n",
    "            left += 1\n",
    "            right -=1\n",
    "        elif arr[left]!=1:\n",
    "            left+=1\n",
    "        elif arr[right]!=0:\n",
    "            right-=1\n",
    "\n",
    "##driver code\n",
    "arr=[0,1,0,1,0,0,1,1,1,0]\n",
    "arr_arrange(arr)\n",
    "print(arr)"
   ]
  },
  {
   "cell_type": "code",
   "execution_count": null,
   "id": "91aa1983",
   "metadata": {},
   "outputs": [],
   "source": []
  },
  {
   "cell_type": "code",
   "execution_count": null,
   "id": "edf901d2",
   "metadata": {},
   "outputs": [],
   "source": []
  }
 ],
 "metadata": {
  "kernelspec": {
   "display_name": "Python 3 (ipykernel)",
   "language": "python",
   "name": "python3"
  },
  "language_info": {
   "codemirror_mode": {
    "name": "ipython",
    "version": 3
   },
   "file_extension": ".py",
   "mimetype": "text/x-python",
   "name": "python",
   "nbconvert_exporter": "python",
   "pygments_lexer": "ipython3",
   "version": "3.11.5"
  }
 },
 "nbformat": 4,
 "nbformat_minor": 5
}
