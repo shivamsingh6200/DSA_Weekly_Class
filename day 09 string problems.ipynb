{
 "cells": [
  {
   "cell_type": "code",
   "execution_count": 1,
   "id": "90bcfba3",
   "metadata": {},
   "outputs": [],
   "source": [
    "str1=\"shivam\"\n",
    "str_arr=[char for char in str1]"
   ]
  },
  {
   "cell_type": "code",
   "execution_count": 2,
   "id": "38f82d16",
   "metadata": {},
   "outputs": [
    {
     "data": {
      "text/plain": [
       "['s', 'h', 'i', 'v', 'a', 'm']"
      ]
     },
     "execution_count": 2,
     "metadata": {},
     "output_type": "execute_result"
    }
   ],
   "source": [
    "str_arr"
   ]
  },
  {
   "cell_type": "code",
   "execution_count": 3,
   "id": "b6214fef",
   "metadata": {},
   "outputs": [],
   "source": [
    "str_arr1=list(str1)"
   ]
  },
  {
   "cell_type": "code",
   "execution_count": 4,
   "id": "d39e7670",
   "metadata": {},
   "outputs": [
    {
     "data": {
      "text/plain": [
       "['s', 'h', 'i', 'v', 'a', 'm']"
      ]
     },
     "execution_count": 4,
     "metadata": {},
     "output_type": "execute_result"
    }
   ],
   "source": [
    "str_arr1"
   ]
  },
  {
   "cell_type": "markdown",
   "id": "012196a7",
   "metadata": {},
   "source": [
    "Permutations of given String\n",
    "A permutation also called an “arrangement number” or “order,” is a rearrangement of the elements of an ordered list S into a one-to-one correspondence with S itself. A string of length N has N! permutations.\n",
    "\n",
    "Input: S = “ABC” Output: “ABC”, “ACB”, “BAC”, “BCA”, “CBA”, “CAB”"
   ]
  },
  {
   "cell_type": "code",
   "execution_count": 8,
   "id": "ae501fcf",
   "metadata": {},
   "outputs": [
    {
     "name": "stdout",
     "output_type": "stream",
     "text": [
      "ABC\n",
      "ACB\n",
      "BAC\n",
      "BCA\n",
      "CBA\n",
      "CAB\n"
     ]
    }
   ],
   "source": [
    "##method definition\n",
    "def permu_str(chr_arr,left,right):\n",
    "    ##base condition\n",
    "    if left ==right :\n",
    "        print(\"\".join(chr_arr))\n",
    "        return\n",
    "    else :\n",
    "        for i in range(left,right+1):\n",
    "            chr_arr[left], chr_arr[i] = chr_arr[i],chr_arr[left]\n",
    "            permu_str(chr_arr,left+1,right)\n",
    "            chr_arr[left], chr_arr[i] = chr_arr[i],chr_arr[left]\n",
    "    \n",
    "\n",
    "\n",
    "##driver code\n",
    "s=\"ABC\"\n",
    "permu_str(list(s),0,len(s)-1)"
   ]
  },
  {
   "cell_type": "code",
   "execution_count": null,
   "id": "7ea30604",
   "metadata": {},
   "outputs": [],
   "source": []
  }
 ],
 "metadata": {
  "kernelspec": {
   "display_name": "Python 3 (ipykernel)",
   "language": "python",
   "name": "python3"
  },
  "language_info": {
   "codemirror_mode": {
    "name": "ipython",
    "version": 3
   },
   "file_extension": ".py",
   "mimetype": "text/x-python",
   "name": "python",
   "nbconvert_exporter": "python",
   "pygments_lexer": "ipython3",
   "version": "3.11.5"
  }
 },
 "nbformat": 4,
 "nbformat_minor": 5
}
