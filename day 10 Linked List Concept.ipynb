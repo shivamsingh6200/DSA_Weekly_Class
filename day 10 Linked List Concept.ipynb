{
 "cells": [
  {
   "cell_type": "markdown",
   "id": "787be0d4",
   "metadata": {},
   "source": [
    "## define the list node"
   ]
  },
  {
   "cell_type": "code",
   "execution_count": 2,
   "id": "c68e2b9f",
   "metadata": {},
   "outputs": [],
   "source": [
    "class Node:\n",
    "    def __init__(self,data=None,next=None):\n",
    "        self.data=data\n",
    "        self.next=next\n",
    "        \n",
    "    #Method to set the data value\n",
    "    def setData(self,data):\n",
    "        self.data=data\n",
    "        \n",
    "    #method to get the data value:\n",
    "    def getData(self):\n",
    "        return self.data\n",
    "    \n",
    "    #method to set the next\n",
    "    def setNext(self,next):\n",
    "        self.next=next\n",
    "        \n",
    "    #method to get the next\n",
    "    def getNext(self):\n",
    "        return self.next"
   ]
  },
  {
   "cell_type": "markdown",
   "id": "e15f6951",
   "metadata": {},
   "source": [
    "## Create a linked list "
   ]
  },
  {
   "cell_type": "code",
   "execution_count": 3,
   "id": "2fa2dbcf",
   "metadata": {},
   "outputs": [
    {
     "name": "stdout",
     "output_type": "stream",
     "text": [
      "1->2->3->4->5->"
     ]
    }
   ],
   "source": [
    "head=Node(1)\n",
    "node2=Node(2)\n",
    "node3=Node(3)\n",
    "node4=Node(4)\n",
    "node5=Node(5)\n",
    "\n",
    "\n",
    "#Creating the linkage\n",
    "head.setNext(node2)\n",
    "node2.setNext(node3)\n",
    "node3.setNext(node4)\n",
    "node4.setNext(node5)\n",
    "\n",
    "def traverse(head):\n",
    "    temp=head\n",
    "    while(temp):\n",
    "        print(temp.getData(),end=\"->\")\n",
    "        temp=temp.getNext()\n",
    "        \n",
    "traverse(head)"
   ]
  },
  {
   "cell_type": "code",
   "execution_count": 4,
   "id": "88ad7c8e",
   "metadata": {},
   "outputs": [
    {
     "name": "stdout",
     "output_type": "stream",
     "text": [
      "1->2->3->4->5->"
     ]
    }
   ],
   "source": [
    "def traverse_rec(head):\n",
    "    ##base condition\n",
    "    if not head:\n",
    "        return \n",
    "    ##logic\n",
    "    print(head.getData(),end=\"->\")\n",
    "    ##recursive call\n",
    "    traverse_rec(head.getNext())\n",
    "    \n",
    "traverse_rec(head)"
   ]
  },
  {
   "cell_type": "code",
   "execution_count": 5,
   "id": "300149db",
   "metadata": {},
   "outputs": [
    {
     "name": "stdout",
     "output_type": "stream",
     "text": [
      "5\n"
     ]
    }
   ],
   "source": [
    "def length(head):\n",
    "    len=0\n",
    "    while(head):\n",
    "        len+=1\n",
    "        head=head.getNext()\n",
    "    return len\n",
    "\n",
    "##driver code\n",
    "print(length(head))"
   ]
  },
  {
   "cell_type": "code",
   "execution_count": 6,
   "id": "a7e4b77e",
   "metadata": {},
   "outputs": [
    {
     "name": "stdout",
     "output_type": "stream",
     "text": [
      "5\n"
     ]
    }
   ],
   "source": [
    "def length_rec(head):\n",
    "    if not head:\n",
    "        return 0\n",
    "    return 1 + length_rec(head.getNext()) \n",
    "\n",
    "##driver code\n",
    "print(length_rec(head))"
   ]
  },
  {
   "cell_type": "markdown",
   "id": "de35fba9",
   "metadata": {},
   "source": [
    "## insertion"
   ]
  },
  {
   "cell_type": "code",
   "execution_count": 8,
   "id": "67cf82e9",
   "metadata": {},
   "outputs": [
    {
     "name": "stdout",
     "output_type": "stream",
     "text": [
      "11->11->1->2->3->4->5->"
     ]
    }
   ],
   "source": [
    "##method definition\n",
    "def insertion(head,data,k):\n",
    "    #if the value of k is invalid\n",
    "    if (k>length_rec(head) or k<0):\n",
    "        print(\"Value of k is not valid\")\n",
    "        return head\n",
    "    \n",
    "    \n",
    "    #create a new node for the data\n",
    "    newNode=Node(data)\n",
    "    \n",
    "    if k==0:\n",
    "        ##We need to insert at the begning means we need to update the head\n",
    "        newNode.setNext(head)\n",
    "        head=newNode\n",
    "        return head\n",
    "    \n",
    "    #when not in the begnning\n",
    "    else:\n",
    "        #we need to jump to the previous node of the position\n",
    "        prev=head\n",
    "        i=0\n",
    "        while i<k-1:\n",
    "            prev=prev.getNext()\n",
    "            i+=1\n",
    "        #now prev is just in the left position of the kth position\n",
    "        newNode.setNext(prev.getNext())\n",
    "        prev.setNext(newNode)\n",
    "    return head\n",
    "\n",
    "\n",
    "##driver code\n",
    "head=insertion(head,11,0)\n",
    "traverse_rec(head)\n"
   ]
  },
  {
   "cell_type": "markdown",
   "id": "0a8e13a0",
   "metadata": {},
   "source": [
    "## deletion of kth element"
   ]
  },
  {
   "cell_type": "code",
   "execution_count": 21,
   "id": "9858b7f3",
   "metadata": {},
   "outputs": [
    {
     "name": "stdout",
     "output_type": "stream",
     "text": [
      "1->2->3->4->5->\n",
      "2->3->4->5->"
     ]
    }
   ],
   "source": [
    "##method definition\n",
    "def deletNode(head,k):\n",
    "    \n",
    "    #if the value of k is invalid\n",
    "    if (k>=length_rec(head) or k<0):\n",
    "        print(\"Value of k is not valid\")\n",
    "        return head\n",
    "    \n",
    "    #if we want to delete the first node means head node\n",
    "    if k==0:\n",
    "        #we just make the second node the head\n",
    "        head=head.getNext()\n",
    "        return head\n",
    "    \n",
    "    #if we want to delete any other node\n",
    "    else:\n",
    "        #we need to jump to the previous node of the position\n",
    "        perv=head\n",
    "        i=0\n",
    "        while i<k-1:\n",
    "            perv=perv.getNext()\n",
    "            i+=1\n",
    "        #now prev is just in the left position of the kth position   \n",
    "        perv.setNext(perv.getNext().getNext())\n",
    "        return head\n",
    "    \n",
    "##driver code\n",
    "#defining nodes    \n",
    "head=Node(1)\n",
    "node2=Node(2)\n",
    "node3=Node(3)\n",
    "node4=Node(4)\n",
    "node5=Node(5)\n",
    "\n",
    "\n",
    "#Creating the linkage\n",
    "head.setNext(node2)\n",
    "node2.setNext(node3)\n",
    "node3.setNext(node4)\n",
    "node4.setNext(node5)\n",
    "\n",
    "#calling the function\n",
    "traverse_rec(head)\n",
    "print()\n",
    "head=deletNode(head,0)\n",
    "traverse_rec(head)"
   ]
  },
  {
   "cell_type": "code",
   "execution_count": null,
   "id": "6ee690a6",
   "metadata": {},
   "outputs": [],
   "source": []
  }
 ],
 "metadata": {
  "kernelspec": {
   "display_name": "Python 3 (ipykernel)",
   "language": "python",
   "name": "python3"
  },
  "language_info": {
   "codemirror_mode": {
    "name": "ipython",
    "version": 3
   },
   "file_extension": ".py",
   "mimetype": "text/x-python",
   "name": "python",
   "nbconvert_exporter": "python",
   "pygments_lexer": "ipython3",
   "version": "3.11.5"
  }
 },
 "nbformat": 4,
 "nbformat_minor": 5
}
