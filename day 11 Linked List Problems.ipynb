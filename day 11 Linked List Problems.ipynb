{
 "cells": [
  {
   "cell_type": "code",
   "execution_count": 1,
   "id": "3825c87c",
   "metadata": {},
   "outputs": [],
   "source": [
    "##node definition\n",
    "class Node:\n",
    "    def __init__(self,data=None,next=None):\n",
    "        self.data=data\n",
    "        self.next=next\n",
    "        \n",
    "    #Method to set the data value\n",
    "    def setData(self,data):\n",
    "        self.data=data\n",
    "        \n",
    "    #method to get the data value:\n",
    "    def getData(self):\n",
    "        return self.data\n",
    "    \n",
    "    #method to set the next\n",
    "    def setNext(self,next):\n",
    "        self.next=next\n",
    "        \n",
    "    #method to get the next\n",
    "    def getNext(self):\n",
    "        return self.next"
   ]
  },
  {
   "cell_type": "code",
   "execution_count": 2,
   "id": "05accef0",
   "metadata": {},
   "outputs": [],
   "source": [
    "##Traverse method definition\n",
    "def traverse(head):\n",
    "    temp=head\n",
    "    while (temp):\n",
    "        print(temp.getData(),end=\"->\")\n",
    "        temp = temp.getNext()"
   ]
  },
  {
   "cell_type": "code",
   "execution_count": 3,
   "id": "75fdf53f",
   "metadata": {},
   "outputs": [],
   "source": [
    "##length_find method definition\n",
    "def length_find(head):\n",
    "    temp=head\n",
    "    leng=0\n",
    "    while (temp):\n",
    "        leng+=1\n",
    "        temp = temp.getNext()\n",
    "    return len"
   ]
  },
  {
   "cell_type": "markdown",
   "id": "0ff2242d",
   "metadata": {},
   "source": [
    "### Find the middle element in the linkedlist"
   ]
  },
  {
   "cell_type": "code",
   "execution_count": 5,
   "id": "d5012f29",
   "metadata": {},
   "outputs": [
    {
     "name": "stdout",
     "output_type": "stream",
     "text": [
      "1->2->3->4->5->\n",
      "3\n"
     ]
    }
   ],
   "source": [
    "##Method definition\n",
    "def midpoint(head):\n",
    "    slow=head\n",
    "    fast=head\n",
    "    \n",
    "    while(fast!=None and fast.getNext()!= None):\n",
    "        slow=slow.getNext()\n",
    "        fast=fast.getNext().getNext()\n",
    "        \n",
    "    return slow.getData()\n",
    "\n",
    "##driver code\n",
    "head = Node(1)\n",
    "node2 = Node(2)\n",
    "node3 = Node(3)\n",
    "node4 = Node(4)\n",
    "node5 = Node(5)\n",
    "\n",
    "#Creating the linkage\n",
    "head.setNext(node2)\n",
    "node2.setNext(node3)\n",
    "node3.setNext(node4)\n",
    "node4.setNext(node5)\n",
    "\n",
    "traverse(head)\n",
    "print()\n",
    "print(midpoint(head))"
   ]
  },
  {
   "cell_type": "markdown",
   "id": "b79391df",
   "metadata": {},
   "source": [
    "## Detect the cycle in the loop"
   ]
  },
  {
   "cell_type": "code",
   "execution_count": 8,
   "id": "d241cf45",
   "metadata": {},
   "outputs": [
    {
     "name": "stdout",
     "output_type": "stream",
     "text": [
      "True\n"
     ]
    }
   ],
   "source": [
    "#method definition\n",
    "def isCyclePresent(head):\n",
    "    slow=head\n",
    "    fast=head\n",
    "    \n",
    "    while(fast and fast.getNext()):\n",
    "        slow = slow.getNext()\n",
    "        fast = fast.getNext().getNext()\n",
    "        \n",
    "        if fast and slow.getData() == fast.getData():\n",
    "            return True #cycle exists\n",
    "\n",
    "    return False #Cycle doesn't exist\n",
    "\n",
    "\n",
    "##driver code\n",
    "head = Node(1)\n",
    "node2 = Node(2)\n",
    "node3 = Node(3)\n",
    "node4 = Node(4)\n",
    "node5 = Node(5)\n",
    "node6 = Node(6)\n",
    "\n",
    "#Creating the linkage\n",
    "head.setNext(node2)\n",
    "node2.setNext(node3)\n",
    "node3.setNext(node4)\n",
    "node4.setNext(node5)\n",
    "node5.setNext(node6)\n",
    "node6.setNext(node3)\n",
    "\n",
    "print(isCyclePresent(head))\n"
   ]
  },
  {
   "cell_type": "markdown",
   "id": "dc8596ce",
   "metadata": {},
   "source": [
    "## Find the starting point of the loop"
   ]
  },
  {
   "cell_type": "code",
   "execution_count": 9,
   "id": "f1c856f2",
   "metadata": {},
   "outputs": [
    {
     "name": "stdout",
     "output_type": "stream",
     "text": [
      "3\n"
     ]
    }
   ],
   "source": [
    "def startingPointOfCycle(head):\n",
    "    slow = head\n",
    "    fast = head\n",
    "    isCyclePresent = False\n",
    "    while( fast and fast.getNext()):\n",
    "        slow = slow.getNext()\n",
    "        fast = fast.getNext().getNext()\n",
    "\n",
    "        if(fast and slow.getData() == fast.getData()):\n",
    "            isCyclePresent = True\n",
    "            break\n",
    "            \n",
    "    if not isCyclePresent :\n",
    "        return None\n",
    "    #(dis fast = x+y+z+y and dis slow=x+y ) and fast=2*slow \n",
    "    temp=head\n",
    "    while(temp.getData() != slow.getData()):\n",
    "        temp = temp.getNext()\n",
    "        slow = slow.getNext()\n",
    "        \n",
    "    return temp.getData()\n",
    "\n",
    "##driver code\n",
    "head = Node(1)\n",
    "node2 = Node(2)\n",
    "node3 = Node(3)\n",
    "node4 = Node(4)\n",
    "node5 = Node(5)\n",
    "node6 = Node(6)\n",
    "\n",
    "#Creating the linkage\n",
    "head.setNext(node2)\n",
    "node2.setNext(node3)\n",
    "node3.setNext(node4)\n",
    "node4.setNext(node5)\n",
    "node5.setNext(node6)\n",
    "node6.setNext(node3)\n",
    "\n",
    "print(startingPointOfCycle(head))"
   ]
  },
  {
   "cell_type": "code",
   "execution_count": null,
   "id": "647a89b6",
   "metadata": {},
   "outputs": [],
   "source": []
  }
 ],
 "metadata": {
  "kernelspec": {
   "display_name": "Python 3 (ipykernel)",
   "language": "python",
   "name": "python3"
  },
  "language_info": {
   "codemirror_mode": {
    "name": "ipython",
    "version": 3
   },
   "file_extension": ".py",
   "mimetype": "text/x-python",
   "name": "python",
   "nbconvert_exporter": "python",
   "pygments_lexer": "ipython3",
   "version": "3.11.5"
  }
 },
 "nbformat": 4,
 "nbformat_minor": 5
}
