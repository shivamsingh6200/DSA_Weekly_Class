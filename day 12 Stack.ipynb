{
 "cells": [
  {
   "cell_type": "markdown",
   "id": "507f682a",
   "metadata": {},
   "source": [
    "# Stack using array"
   ]
  },
  {
   "cell_type": "code",
   "execution_count": 55,
   "id": "3be566ce",
   "metadata": {},
   "outputs": [],
   "source": [
    "class Stack:\n",
    "    \n",
    "    def __init__(self,capacity):\n",
    "        self.top = -1 #stack is empty in begining\n",
    "        self.arr=[None]*capacity\n",
    "        self.capacity=capacity\n",
    "        \n",
    "    def isEmpty(self):\n",
    "        return self.top==-1\n",
    "    \n",
    "    def isFull(self):\n",
    "        return self.top==self.capacity-1\n",
    "    \n",
    "    def push(self,data):\n",
    "        #check if it's full\n",
    "        if self.isFull():\n",
    "            print(\"Stack Overflow\")\n",
    "            return\n",
    "        self.top += 1\n",
    "        self.arr[self.top]=data\n",
    "        \n",
    "    def pop(self):\n",
    "        #check if it's empty\n",
    "        if self.isEmpty():\n",
    "            print(\"Stack Underflow\")\n",
    "            return\n",
    "        data = self.arr[self.top]\n",
    "        self.arr[self.top]=None\n",
    "        self.top -= 1\n",
    "        return data\n",
    "    \n",
    "    def traverse(self):\n",
    "        for i in range(self.top+1):\n",
    "            print(self.arr[i],end=',')\n",
    "            \n",
    "    def peek(self):\n",
    "        #check if it's empty\n",
    "        if self.isEmpty():\n",
    "            print(\"Stack Underflow\")\n",
    "            return\n",
    "        data = self.arr[self.top]\n",
    "        return data"
   ]
  },
  {
   "cell_type": "code",
   "execution_count": 56,
   "id": "1bdbe1f1",
   "metadata": {},
   "outputs": [],
   "source": [
    "stack =Stack(5)"
   ]
  },
  {
   "cell_type": "code",
   "execution_count": 57,
   "id": "1f884a75",
   "metadata": {},
   "outputs": [
    {
     "name": "stdout",
     "output_type": "stream",
     "text": [
      "True\n"
     ]
    }
   ],
   "source": [
    "print(stack.isEmpty())"
   ]
  },
  {
   "cell_type": "code",
   "execution_count": 76,
   "id": "128a5e81",
   "metadata": {},
   "outputs": [],
   "source": [
    "stack.push(3)\n",
    "stack.push(5)\n",
    "stack.push(1)"
   ]
  },
  {
   "cell_type": "code",
   "execution_count": 77,
   "id": "75704282",
   "metadata": {},
   "outputs": [
    {
     "name": "stdout",
     "output_type": "stream",
     "text": [
      "3,5,1,"
     ]
    }
   ],
   "source": [
    "stack.traverse()"
   ]
  },
  {
   "cell_type": "code",
   "execution_count": 78,
   "id": "0228f77f",
   "metadata": {},
   "outputs": [
    {
     "name": "stdout",
     "output_type": "stream",
     "text": [
      "False\n"
     ]
    }
   ],
   "source": [
    "print(stack.isEmpty())"
   ]
  },
  {
   "cell_type": "code",
   "execution_count": 79,
   "id": "98b68fa3",
   "metadata": {},
   "outputs": [
    {
     "name": "stdout",
     "output_type": "stream",
     "text": [
      "1\n"
     ]
    }
   ],
   "source": [
    "print(stack.pop())"
   ]
  },
  {
   "cell_type": "code",
   "execution_count": 80,
   "id": "7a45ad29",
   "metadata": {},
   "outputs": [
    {
     "name": "stdout",
     "output_type": "stream",
     "text": [
      "5\n"
     ]
    }
   ],
   "source": [
    "print(stack.pop())"
   ]
  },
  {
   "cell_type": "code",
   "execution_count": 81,
   "id": "7a1f0bfd",
   "metadata": {},
   "outputs": [
    {
     "name": "stdout",
     "output_type": "stream",
     "text": [
      "3,"
     ]
    }
   ],
   "source": [
    "stack.traverse()"
   ]
  },
  {
   "cell_type": "code",
   "execution_count": null,
   "id": "c9dd270e",
   "metadata": {},
   "outputs": [],
   "source": []
  },
  {
   "cell_type": "markdown",
   "id": "cbf6449d",
   "metadata": {},
   "source": [
    "# Stack using linked list"
   ]
  },
  {
   "cell_type": "code",
   "execution_count": 22,
   "id": "9267e857",
   "metadata": {},
   "outputs": [],
   "source": [
    "class Node:\n",
    "    def __init__(self,data,next=None):\n",
    "        self.data=data\n",
    "        self.next=next\n",
    "        \n",
    "    def setData(self,data):\n",
    "        self.data=data\n",
    "        \n",
    "    def getData(self):\n",
    "        return self.data\n",
    "    \n",
    "    def setNext(self,next):\n",
    "        self.next=next\n",
    "        \n",
    "    def getNext(self):\n",
    "        return self.next"
   ]
  },
  {
   "cell_type": "code",
   "execution_count": 23,
   "id": "ef606f40",
   "metadata": {},
   "outputs": [],
   "source": [
    "class StackLL:\n",
    "    \n",
    "    def __init__(self):\n",
    "        self.head=None #stack empty in begining\n",
    "    \n",
    "    def isEmpty(self):\n",
    "        return self.head==None\n",
    "    \n",
    "    def push(self,data):\n",
    "        node = Node(data)\n",
    "        node.setNext(self.head)\n",
    "        self.head=node\n",
    "        \n",
    "    def pop(self):\n",
    "        if self.isEmpty():\n",
    "            print(\"Stack underflow\")\n",
    "            return\n",
    "        data=self.head.getData()\n",
    "        self.head=self.head.getNext()\n",
    "        return data\n",
    "    \n",
    "    def peek(self):\n",
    "        if self.isEmpty():\n",
    "            print(\"Stack underflow\")\n",
    "            return\n",
    "        data=self.head.getData()\n",
    "        return data\n",
    "    \n",
    "    def size(self):\n",
    "        size=0\n",
    "        temp=self.head\n",
    "        while(temp):\n",
    "            size+=1\n",
    "            temp=temp.getNext()\n",
    "        return size\n",
    "    \n",
    "    def traverse(self):  #Traverse the elements of the stac\n",
    "        temp = self.head\n",
    "        while(temp):\n",
    "            print(temp.getData(), end=\" -> \")\n",
    "            temp = temp.getNext()"
   ]
  },
  {
   "cell_type": "code",
   "execution_count": 21,
   "id": "958d5742",
   "metadata": {},
   "outputs": [],
   "source": [
    "stack=StackLL()"
   ]
  },
  {
   "cell_type": "code",
   "execution_count": 22,
   "id": "854f3b6a",
   "metadata": {},
   "outputs": [
    {
     "data": {
      "text/plain": [
       "True"
      ]
     },
     "execution_count": 22,
     "metadata": {},
     "output_type": "execute_result"
    }
   ],
   "source": [
    "stack.isEmpty()"
   ]
  },
  {
   "cell_type": "code",
   "execution_count": 23,
   "id": "cb493469",
   "metadata": {},
   "outputs": [],
   "source": [
    "stack.push(5)"
   ]
  },
  {
   "cell_type": "code",
   "execution_count": 24,
   "id": "dd5eafaf",
   "metadata": {},
   "outputs": [],
   "source": [
    "stack.push(4)"
   ]
  },
  {
   "cell_type": "code",
   "execution_count": 25,
   "id": "1480a4d1",
   "metadata": {},
   "outputs": [
    {
     "data": {
      "text/plain": [
       "False"
      ]
     },
     "execution_count": 25,
     "metadata": {},
     "output_type": "execute_result"
    }
   ],
   "source": [
    "stack.isEmpty()"
   ]
  },
  {
   "cell_type": "code",
   "execution_count": 26,
   "id": "8de5a019",
   "metadata": {},
   "outputs": [
    {
     "data": {
      "text/plain": [
       "2"
      ]
     },
     "execution_count": 26,
     "metadata": {},
     "output_type": "execute_result"
    }
   ],
   "source": [
    "stack.size()"
   ]
  },
  {
   "cell_type": "code",
   "execution_count": 27,
   "id": "77ab5f06",
   "metadata": {},
   "outputs": [],
   "source": [
    "stack.push(5)"
   ]
  },
  {
   "cell_type": "code",
   "execution_count": 28,
   "id": "112db9b2",
   "metadata": {},
   "outputs": [
    {
     "data": {
      "text/plain": [
       "3"
      ]
     },
     "execution_count": 28,
     "metadata": {},
     "output_type": "execute_result"
    }
   ],
   "source": [
    "stack.size()"
   ]
  },
  {
   "cell_type": "code",
   "execution_count": 29,
   "id": "e0ae2856",
   "metadata": {},
   "outputs": [
    {
     "name": "stdout",
     "output_type": "stream",
     "text": [
      "5 -> 4 -> 5 -> "
     ]
    }
   ],
   "source": [
    "stack.traverse()"
   ]
  },
  {
   "cell_type": "code",
   "execution_count": 30,
   "id": "e4fe4849",
   "metadata": {},
   "outputs": [
    {
     "data": {
      "text/plain": [
       "5"
      ]
     },
     "execution_count": 30,
     "metadata": {},
     "output_type": "execute_result"
    }
   ],
   "source": [
    "stack.pop()"
   ]
  },
  {
   "cell_type": "code",
   "execution_count": 31,
   "id": "45e8e1eb",
   "metadata": {},
   "outputs": [
    {
     "name": "stdout",
     "output_type": "stream",
     "text": [
      "4 -> 5 -> "
     ]
    }
   ],
   "source": [
    "stack.traverse()"
   ]
  },
  {
   "cell_type": "code",
   "execution_count": 32,
   "id": "86ce691c",
   "metadata": {},
   "outputs": [
    {
     "data": {
      "text/plain": [
       "4"
      ]
     },
     "execution_count": 32,
     "metadata": {},
     "output_type": "execute_result"
    }
   ],
   "source": [
    "stack.peek()"
   ]
  },
  {
   "cell_type": "markdown",
   "id": "8931fb81",
   "metadata": {},
   "source": [
    "## Brackets Balancing Prob"
   ]
  },
  {
   "cell_type": "code",
   "execution_count": 26,
   "id": "26736d22",
   "metadata": {},
   "outputs": [],
   "source": [
    "def areBracketsBalanced(exp):\n",
    "\n",
    "    #Define a stack object\n",
    "    stack = StackLL()\n",
    "\n",
    "    #iterate through each bracket in the given exp\n",
    "    for c in exp :\n",
    "        if c in ['(','{','['] :\n",
    "            stack.push(c)  #if c is one of the opening bracket, then push to the stack\n",
    "        else :\n",
    "            if stack.isEmpty():\n",
    "                return False\n",
    "            char = stack.pop()\n",
    "            if  char == \"(\" and c != \")\":\n",
    "                return False\n",
    "            elif char == \"{\" and c != \"}\":\n",
    "                return False\n",
    "            elif char == \"[\" and c != \"]\":\n",
    "                return False\n",
    "    return stack.isEmpty()"
   ]
  },
  {
   "cell_type": "code",
   "execution_count": 30,
   "id": "bc442898",
   "metadata": {},
   "outputs": [
    {
     "data": {
      "text/plain": [
       "True"
      ]
     },
     "execution_count": 30,
     "metadata": {},
     "output_type": "execute_result"
    }
   ],
   "source": [
    "areBracketsBalanced('({[()]})')"
   ]
  },
  {
   "cell_type": "code",
   "execution_count": 36,
   "id": "0556b0a0",
   "metadata": {},
   "outputs": [],
   "source": [
    "def deleteMiddle(stack):\n",
    "    \n",
    "    s2=StackLL()\n",
    "    size=stack.size()\n",
    "    count=0\n",
    "    \n",
    "    while(count<int(size)/2):\n",
    "        s2.push(stack.pop())\n",
    "        count +=1\n",
    "    stack.pop()\n",
    "    while(not s2.isEmpty()):\n",
    "        stack.push(s2.pop())\n"
   ]
  },
  {
   "cell_type": "code",
   "execution_count": 37,
   "id": "f5415277",
   "metadata": {},
   "outputs": [],
   "source": [
    "s = StackLL()\n",
    "s.push(5)\n",
    "s.push(9)\n",
    "s.push(9)\n",
    "s.push(9)\n",
    "s.push(2)"
   ]
  },
  {
   "cell_type": "code",
   "execution_count": 38,
   "id": "14405531",
   "metadata": {},
   "outputs": [
    {
     "name": "stdout",
     "output_type": "stream",
     "text": [
      "2 -> 9 -> 9 -> 9 -> 5 -> "
     ]
    }
   ],
   "source": [
    "s.traverse()"
   ]
  },
  {
   "cell_type": "code",
   "execution_count": 39,
   "id": "b8d94925",
   "metadata": {},
   "outputs": [],
   "source": [
    "deleteMiddle(s)"
   ]
  },
  {
   "cell_type": "code",
   "execution_count": 40,
   "id": "e0ad4f3b",
   "metadata": {},
   "outputs": [
    {
     "name": "stdout",
     "output_type": "stream",
     "text": [
      "2 -> 9 -> 9 -> 5 -> "
     ]
    }
   ],
   "source": [
    "s.traverse()"
   ]
  },
  {
   "cell_type": "code",
   "execution_count": null,
   "id": "0d8c419a",
   "metadata": {},
   "outputs": [],
   "source": []
  }
 ],
 "metadata": {
  "kernelspec": {
   "display_name": "Python 3 (ipykernel)",
   "language": "python",
   "name": "python3"
  },
  "language_info": {
   "codemirror_mode": {
    "name": "ipython",
    "version": 3
   },
   "file_extension": ".py",
   "mimetype": "text/x-python",
   "name": "python",
   "nbconvert_exporter": "python",
   "pygments_lexer": "ipython3",
   "version": "3.11.5"
  }
 },
 "nbformat": 4,
 "nbformat_minor": 5
}
