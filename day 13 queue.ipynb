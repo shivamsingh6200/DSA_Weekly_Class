{
 "cells": [
  {
   "cell_type": "markdown",
   "id": "8b03c048",
   "metadata": {},
   "source": [
    "# Queue using stack"
   ]
  },
  {
   "cell_type": "code",
   "execution_count": 7,
   "id": "7fb24a4c",
   "metadata": {},
   "outputs": [],
   "source": [
    "class Queue:\n",
    "    \n",
    "    def __init__(self,capacity):\n",
    "        self.arr=[None]*capacity\n",
    "        self.capacity=capacity\n",
    "        self.front = -1\n",
    "        self.rear = -1\n",
    "        self.size=0\n",
    "        \n",
    "    def isEmpty(self):\n",
    "        return self.front==-1\n",
    "    \n",
    "    def isFull(self):\n",
    "        return (self.front + 1)%self.capacity == self.rear\n",
    "    \n",
    "    def enQueue(self,data):\n",
    "        if self.isFull():\n",
    "            print(\"Queue Overflow\")\n",
    "            return\n",
    "        self.front=(self.front+1)%self.capacity\n",
    "        self.arr[self.front]=data\n",
    "        \n",
    "        if self.rear==-1: #when first element is inserted\n",
    "            self.rear=0\n",
    "        self.size+=1\n",
    "            \n",
    "    def deQueue(self):\n",
    "        if self.isEmpty():\n",
    "            print(\"Queue Underflow\")\n",
    "            return\n",
    "        data=self.arr[self.rear]\n",
    "        if self.rear==self.front:\n",
    "            self.rear=-1\n",
    "            self.front=-1\n",
    "        else:\n",
    "            self.rear=(self.rear+1)%self.capacity\n",
    "        self.size-=1\n",
    "        return data\n",
    "    \n",
    "    def size(self):\n",
    "        return self.size\n",
    "    \n",
    "    def traverse(self):\n",
    "        for i in range(self.size):\n",
    "            print(self.arr[(self.rear+i)%self.capacity], end=\" , \")"
   ]
  },
  {
   "cell_type": "code",
   "execution_count": 8,
   "id": "5d0c60c4",
   "metadata": {},
   "outputs": [],
   "source": [
    "q=Queue(5)"
   ]
  },
  {
   "cell_type": "code",
   "execution_count": 9,
   "id": "8460c6b4",
   "metadata": {},
   "outputs": [
    {
     "data": {
      "text/plain": [
       "True"
      ]
     },
     "execution_count": 9,
     "metadata": {},
     "output_type": "execute_result"
    }
   ],
   "source": [
    "q.isEmpty()"
   ]
  },
  {
   "cell_type": "code",
   "execution_count": 10,
   "id": "8c16be7b",
   "metadata": {},
   "outputs": [
    {
     "data": {
      "text/plain": [
       "False"
      ]
     },
     "execution_count": 10,
     "metadata": {},
     "output_type": "execute_result"
    }
   ],
   "source": [
    "q.isFull()"
   ]
  },
  {
   "cell_type": "code",
   "execution_count": 11,
   "id": "664bf6e5",
   "metadata": {},
   "outputs": [],
   "source": [
    "q.enQueue(5)\n",
    "q.enQueue(1)\n",
    "q.enQueue(3)"
   ]
  },
  {
   "cell_type": "code",
   "execution_count": 12,
   "id": "f4bc8acc",
   "metadata": {},
   "outputs": [
    {
     "name": "stdout",
     "output_type": "stream",
     "text": [
      "5 , 1 , 3 , "
     ]
    }
   ],
   "source": [
    "q.traverse()"
   ]
  },
  {
   "cell_type": "code",
   "execution_count": 13,
   "id": "200c556e",
   "metadata": {},
   "outputs": [
    {
     "data": {
      "text/plain": [
       "5"
      ]
     },
     "execution_count": 13,
     "metadata": {},
     "output_type": "execute_result"
    }
   ],
   "source": [
    "q.deQueue()"
   ]
  },
  {
   "cell_type": "code",
   "execution_count": 14,
   "id": "94677231",
   "metadata": {},
   "outputs": [
    {
     "name": "stdout",
     "output_type": "stream",
     "text": [
      "1 , 3 , "
     ]
    }
   ],
   "source": [
    "q.traverse()"
   ]
  },
  {
   "cell_type": "code",
   "execution_count": 15,
   "id": "9e192eb9",
   "metadata": {},
   "outputs": [
    {
     "data": {
      "text/plain": [
       "1"
      ]
     },
     "execution_count": 15,
     "metadata": {},
     "output_type": "execute_result"
    }
   ],
   "source": [
    "q.deQueue()"
   ]
  },
  {
   "cell_type": "code",
   "execution_count": 16,
   "id": "fc937520",
   "metadata": {},
   "outputs": [
    {
     "data": {
      "text/plain": [
       "3"
      ]
     },
     "execution_count": 16,
     "metadata": {},
     "output_type": "execute_result"
    }
   ],
   "source": [
    "q.deQueue()"
   ]
  },
  {
   "cell_type": "code",
   "execution_count": 17,
   "id": "1ecd15dd",
   "metadata": {},
   "outputs": [
    {
     "name": "stdout",
     "output_type": "stream",
     "text": [
      "Queue Underflow\n"
     ]
    }
   ],
   "source": [
    "q.deQueue()"
   ]
  },
  {
   "cell_type": "markdown",
   "id": "cd6774ef",
   "metadata": {},
   "source": [
    "# Queue using Linked list"
   ]
  },
  {
   "cell_type": "code",
   "execution_count": 24,
   "id": "e650476b",
   "metadata": {},
   "outputs": [],
   "source": [
    "class Node:\n",
    "    def __init__(self,data,next=None):\n",
    "        self.data=data\n",
    "        self.next=next\n",
    "        \n",
    "    def setData(self,data):\n",
    "        self.data=data\n",
    "        \n",
    "    def getData(self):\n",
    "        return self.data\n",
    "    \n",
    "    def setNext(self,next):\n",
    "        self.next=next\n",
    "        \n",
    "    def getNext(self):\n",
    "        return self.next"
   ]
  },
  {
   "cell_type": "code",
   "execution_count": 25,
   "id": "1844761b",
   "metadata": {},
   "outputs": [],
   "source": [
    "class QueueLL:\n",
    "    def __init__(self):\n",
    "        self.head=None\n",
    "        self.tail=None\n",
    "        self.size=0\n",
    "    \n",
    "    def isEmpty(self):\n",
    "        return self.head == None \n",
    "    \n",
    "    def enQue(self, data):\n",
    "        node = Node(data)\n",
    "        \n",
    "        if self.isEmpty():\n",
    "            self.head=node\n",
    "            self.tail=node\n",
    "        else:\n",
    "            self.tail.setNext(node)\n",
    "            self.tail = self.tail.getNext()\n",
    "        self.size +=1\n",
    "        \n",
    "    def deQueue(self):\n",
    "        if self.isEmpty():\n",
    "            print(\"Queue underflow\")\n",
    "            return\n",
    "        \n",
    "        data = self.head.getData()\n",
    "        \n",
    "        #chek if it's the only element\n",
    "        if(self.head == self.tail):\n",
    "            self.head = None\n",
    "            self.tail= None #Becase after deQue, Queue will be empty\n",
    "        else:\n",
    "            self.head = self.head.getNext()\n",
    "        self.size -= 1\n",
    "        return data\n",
    "    \n",
    "    def traverse(self):\n",
    "        temp = self.head\n",
    "        while(temp ):\n",
    "            print(temp.getData(), end=\"->\")\n",
    "            temp = temp.getNext()\n",
    "        print()"
   ]
  },
  {
   "cell_type": "code",
   "execution_count": 26,
   "id": "bdb382ec",
   "metadata": {},
   "outputs": [],
   "source": [
    "ql=QueueLL()"
   ]
  },
  {
   "cell_type": "code",
   "execution_count": 27,
   "id": "360cdf69",
   "metadata": {},
   "outputs": [
    {
     "data": {
      "text/plain": [
       "True"
      ]
     },
     "execution_count": 27,
     "metadata": {},
     "output_type": "execute_result"
    }
   ],
   "source": [
    "ql.isEmpty()"
   ]
  },
  {
   "cell_type": "code",
   "execution_count": 28,
   "id": "a9c4b015",
   "metadata": {},
   "outputs": [],
   "source": [
    "ql.enQue(5)\n",
    "ql.enQue(1)\n",
    "ql.enQue(2)"
   ]
  },
  {
   "cell_type": "code",
   "execution_count": 29,
   "id": "d27c3cea",
   "metadata": {},
   "outputs": [
    {
     "data": {
      "text/plain": [
       "False"
      ]
     },
     "execution_count": 29,
     "metadata": {},
     "output_type": "execute_result"
    }
   ],
   "source": [
    "ql.isEmpty()"
   ]
  },
  {
   "cell_type": "code",
   "execution_count": 30,
   "id": "09064a4f",
   "metadata": {},
   "outputs": [
    {
     "name": "stdout",
     "output_type": "stream",
     "text": [
      "5->1->2->\n"
     ]
    }
   ],
   "source": [
    "ql.traverse()"
   ]
  },
  {
   "cell_type": "code",
   "execution_count": 33,
   "id": "eb10fa87",
   "metadata": {},
   "outputs": [
    {
     "data": {
      "text/plain": [
       "5"
      ]
     },
     "execution_count": 33,
     "metadata": {},
     "output_type": "execute_result"
    }
   ],
   "source": [
    "ql.deQueue()"
   ]
  },
  {
   "cell_type": "code",
   "execution_count": 34,
   "id": "e2ece9b0",
   "metadata": {},
   "outputs": [
    {
     "data": {
      "text/plain": [
       "1"
      ]
     },
     "execution_count": 34,
     "metadata": {},
     "output_type": "execute_result"
    }
   ],
   "source": [
    "ql.deQueue()"
   ]
  },
  {
   "cell_type": "code",
   "execution_count": 36,
   "id": "a7649d3e",
   "metadata": {},
   "outputs": [
    {
     "name": "stdout",
     "output_type": "stream",
     "text": [
      "2->\n"
     ]
    }
   ],
   "source": [
    "ql.traverse()"
   ]
  },
  {
   "cell_type": "code",
   "execution_count": 37,
   "id": "c3aa6a88",
   "metadata": {},
   "outputs": [
    {
     "data": {
      "text/plain": [
       "2"
      ]
     },
     "execution_count": 37,
     "metadata": {},
     "output_type": "execute_result"
    }
   ],
   "source": [
    "ql.deQueue()"
   ]
  },
  {
   "cell_type": "code",
   "execution_count": 38,
   "id": "36b6aa0a",
   "metadata": {},
   "outputs": [
    {
     "name": "stdout",
     "output_type": "stream",
     "text": [
      "Queue underflow\n"
     ]
    }
   ],
   "source": [
    "ql.deQueue()"
   ]
  },
  {
   "cell_type": "code",
   "execution_count": null,
   "id": "618a9c95",
   "metadata": {},
   "outputs": [],
   "source": []
  }
 ],
 "metadata": {
  "kernelspec": {
   "display_name": "Python 3 (ipykernel)",
   "language": "python",
   "name": "python3"
  },
  "language_info": {
   "codemirror_mode": {
    "name": "ipython",
    "version": 3
   },
   "file_extension": ".py",
   "mimetype": "text/x-python",
   "name": "python",
   "nbconvert_exporter": "python",
   "pygments_lexer": "ipython3",
   "version": "3.11.5"
  }
 },
 "nbformat": 4,
 "nbformat_minor": 5
}
