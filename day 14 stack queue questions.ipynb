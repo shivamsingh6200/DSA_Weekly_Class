{
 "cells": [
  {
   "cell_type": "markdown",
   "id": "9e6c68d6",
   "metadata": {},
   "source": [
    "# stack using queue"
   ]
  },
  {
   "cell_type": "code",
   "execution_count": 33,
   "id": "87b04e7d",
   "metadata": {},
   "outputs": [],
   "source": [
    "class Node:\n",
    "    def __init__(self,data,next=None):\n",
    "        self.data=data\n",
    "        self.next=next\n",
    "        \n",
    "    def setData(self,data):\n",
    "        self.data=data\n",
    "        \n",
    "    def getData(self):\n",
    "        return self.data\n",
    "    \n",
    "    def setNext(self,next):\n",
    "        self.next=next\n",
    "        \n",
    "    def getNext(self):\n",
    "        return self.next"
   ]
  },
  {
   "cell_type": "code",
   "execution_count": 34,
   "id": "aba3fee2",
   "metadata": {},
   "outputs": [],
   "source": [
    "class QueueLL:\n",
    "    def __init__(self):\n",
    "        self.head=None\n",
    "        self.tail=None\n",
    "        self.size=0\n",
    "    \n",
    "    def isEmpty(self):\n",
    "        return self.head == None \n",
    "    \n",
    "    def enQue(self, data):\n",
    "        node = Node(data)\n",
    "        \n",
    "        if self.isEmpty():\n",
    "            self.head=node\n",
    "            self.tail=node\n",
    "        else:\n",
    "            self.tail.setNext(node)\n",
    "            self.tail = self.tail.getNext()\n",
    "        self.size +=1\n",
    "        \n",
    "    def deQueue(self):\n",
    "        if self.isEmpty():\n",
    "            print(\"Queue underflow\")\n",
    "            return\n",
    "        \n",
    "        data = self.head.getData()\n",
    "        \n",
    "        #chek if it's the only element\n",
    "        if(self.head == self.tail):\n",
    "            self.head = None\n",
    "            self.tail= None #Becase after deQue, Queue will be empty\n",
    "        else:\n",
    "            self.head = self.head.getNext()\n",
    "        self.size -= 1\n",
    "        return data\n",
    "    \n",
    "    def traverse(self):\n",
    "        temp = self.head\n",
    "        while(temp ):\n",
    "            print(temp.getData(), end=\"->\")\n",
    "            temp = temp.getNext()\n",
    "        print()"
   ]
  },
  {
   "cell_type": "code",
   "execution_count": 47,
   "id": "cfc0356f",
   "metadata": {},
   "outputs": [],
   "source": [
    "class stackQ:\n",
    "    \n",
    "    def __init__(self):\n",
    "        self.q1=QueueLL()\n",
    "        self.q2=QueueLL()\n",
    "        \n",
    "    def isEmpty(self):\n",
    "        return self.q1.isEmpty()\n",
    "    \n",
    "    def push(self,data):\n",
    "        self.q1.enQue(data)\n",
    "            \n",
    "    def pop(self):\n",
    "        if self.isEmpty():\n",
    "            print(\"Stack underflow\")\n",
    "            return\n",
    "        data=None\n",
    "        while not self.q1.isEmpty():\n",
    "            data = self.q1.deQueue()\n",
    "            if( not self.q1.isEmpty()):\n",
    "                self.q2.enQue(data)\n",
    "        self.q1, self.q2 = self.q2,self.q1\n",
    "        return data\n",
    "    \n",
    "    def traverse(self):\n",
    "        self.q1.traverse()"
   ]
  },
  {
   "cell_type": "code",
   "execution_count": 48,
   "id": "2ce4889c",
   "metadata": {},
   "outputs": [],
   "source": [
    "s=stackQ()"
   ]
  },
  {
   "cell_type": "code",
   "execution_count": 49,
   "id": "5c903a60",
   "metadata": {},
   "outputs": [
    {
     "data": {
      "text/plain": [
       "True"
      ]
     },
     "execution_count": 49,
     "metadata": {},
     "output_type": "execute_result"
    }
   ],
   "source": [
    "s.isEmpty()"
   ]
  },
  {
   "cell_type": "code",
   "execution_count": 50,
   "id": "7f9361ce",
   "metadata": {},
   "outputs": [],
   "source": [
    "s.push(5)\n",
    "s.push(3)\n",
    "s.push(6)\n",
    "s.push(1)"
   ]
  },
  {
   "cell_type": "code",
   "execution_count": 51,
   "id": "c4b9a67d",
   "metadata": {},
   "outputs": [
    {
     "name": "stdout",
     "output_type": "stream",
     "text": [
      "5->3->6->1->\n"
     ]
    }
   ],
   "source": [
    "s.traverse()"
   ]
  },
  {
   "cell_type": "code",
   "execution_count": 52,
   "id": "a11e023c",
   "metadata": {},
   "outputs": [
    {
     "name": "stdout",
     "output_type": "stream",
     "text": [
      "1\n"
     ]
    }
   ],
   "source": [
    "print(s.pop())"
   ]
  },
  {
   "cell_type": "code",
   "execution_count": 53,
   "id": "2b1a22ba",
   "metadata": {},
   "outputs": [
    {
     "name": "stdout",
     "output_type": "stream",
     "text": [
      "5->3->6->\n"
     ]
    }
   ],
   "source": [
    "s.traverse()"
   ]
  },
  {
   "cell_type": "markdown",
   "id": "bfbcc1eb",
   "metadata": {},
   "source": [
    "# queue using stack"
   ]
  },
  {
   "cell_type": "code",
   "execution_count": 68,
   "id": "1bdff4a9",
   "metadata": {},
   "outputs": [],
   "source": [
    "class QueueS:\n",
    "    \n",
    "    def __init__(self):\n",
    "        self.s1=stackQ()\n",
    "        self.s2=stackQ()\n",
    "        \n",
    "    def enQue(self,data):\n",
    "        self.s1.push(data)\n",
    "        \n",
    "    def isEmpty(self):\n",
    "        return self.s1.isEmpty()\n",
    "    \n",
    "    def deQue(self):\n",
    "        if(self.s1.isEmpty()):\n",
    "            print(\"Queue underflow\")\n",
    "            return\n",
    "        data=None\n",
    "        while not self.s1.isEmpty():\n",
    "            data=self.s1.pop()\n",
    "            if(not self.s1.isEmpty()):\n",
    "                self.s2.push(data)\n",
    "        while not self.s2.isEmpty():\n",
    "            self.s1.push(self.s2.pop())\n",
    "        return data\n",
    "    \n",
    "    def traverse(self):\n",
    "        self.s1.traverse()"
   ]
  },
  {
   "cell_type": "code",
   "execution_count": 69,
   "id": "decd9dfd",
   "metadata": {},
   "outputs": [],
   "source": [
    "q = QueueS()"
   ]
  },
  {
   "cell_type": "code",
   "execution_count": 70,
   "id": "221df8a4",
   "metadata": {},
   "outputs": [
    {
     "name": "stdout",
     "output_type": "stream",
     "text": [
      "True\n"
     ]
    }
   ],
   "source": [
    "print(q.isEmpty())"
   ]
  },
  {
   "cell_type": "code",
   "execution_count": 71,
   "id": "4afaf59c",
   "metadata": {},
   "outputs": [],
   "source": [
    "q.enQue(5)\n",
    "q.enQue(7)\n",
    "q.enQue(3)"
   ]
  },
  {
   "cell_type": "code",
   "execution_count": 72,
   "id": "0910a654",
   "metadata": {},
   "outputs": [
    {
     "name": "stdout",
     "output_type": "stream",
     "text": [
      "5->7->3->\n"
     ]
    }
   ],
   "source": [
    "q.traverse()"
   ]
  },
  {
   "cell_type": "code",
   "execution_count": 73,
   "id": "e375d877",
   "metadata": {},
   "outputs": [
    {
     "name": "stdout",
     "output_type": "stream",
     "text": [
      "5\n"
     ]
    }
   ],
   "source": [
    "print(q.deQue())"
   ]
  },
  {
   "cell_type": "code",
   "execution_count": 74,
   "id": "16c36937",
   "metadata": {},
   "outputs": [
    {
     "name": "stdout",
     "output_type": "stream",
     "text": [
      "7->3->\n"
     ]
    }
   ],
   "source": [
    "q.traverse()"
   ]
  },
  {
   "cell_type": "code",
   "execution_count": null,
   "id": "faba674e",
   "metadata": {},
   "outputs": [],
   "source": []
  },
  {
   "cell_type": "code",
   "execution_count": null,
   "id": "89211c90",
   "metadata": {},
   "outputs": [],
   "source": []
  }
 ],
 "metadata": {
  "kernelspec": {
   "display_name": "Python 3 (ipykernel)",
   "language": "python",
   "name": "python3"
  },
  "language_info": {
   "codemirror_mode": {
    "name": "ipython",
    "version": 3
   },
   "file_extension": ".py",
   "mimetype": "text/x-python",
   "name": "python",
   "nbconvert_exporter": "python",
   "pygments_lexer": "ipython3",
   "version": "3.11.5"
  }
 },
 "nbformat": 4,
 "nbformat_minor": 5
}
