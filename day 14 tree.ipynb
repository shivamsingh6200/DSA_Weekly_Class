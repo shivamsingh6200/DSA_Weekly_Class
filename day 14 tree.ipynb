{
 "cells": [
  {
   "cell_type": "markdown",
   "id": "be1a56fb",
   "metadata": {},
   "source": [
    "## Tree"
   ]
  },
  {
   "cell_type": "code",
   "execution_count": 1,
   "id": "15955477",
   "metadata": {},
   "outputs": [],
   "source": [
    "class TreeNode:\n",
    "    \n",
    "    def __init__(self,data):\n",
    "        self.data=data\n",
    "        self.left=None #left child\n",
    "        self.right=None #right child\n",
    "        \n",
    "    def setData(self):\n",
    "        self.data=data\n",
    "        \n",
    "    def getData(self):\n",
    "        return self.data\n",
    "    \n",
    "    def setLeft(self,node):\n",
    "        self.left=node\n",
    "    \n",
    "    def getLeft(self):\n",
    "        return self.left\n",
    "    \n",
    "    def setRight(self,node):\n",
    "        self.right=node\n",
    "        \n",
    "    def getRight(self):\n",
    "        return self.right"
   ]
  },
  {
   "cell_type": "code",
   "execution_count": 2,
   "id": "b859d7db",
   "metadata": {},
   "outputs": [],
   "source": [
    "#constructing the tree\n",
    "root=TreeNode(1)\n",
    "\n",
    "#left subtree\n",
    "leftR=TreeNode(2)\n",
    "leftR.setLeft(TreeNode(3))\n",
    "leftR.setRight(TreeNode(4))\n",
    "root.setLeft(leftR)\n",
    "\n",
    "#right subtree\n",
    "rightR=TreeNode(5)\n",
    "rightR.setLeft(TreeNode(6))\n",
    "rightR.setRight(TreeNode(7))\n",
    "root.setRight(rightR)"
   ]
  },
  {
   "cell_type": "markdown",
   "id": "e895fe1f",
   "metadata": {},
   "source": [
    "### Preorder trav"
   ]
  },
  {
   "cell_type": "code",
   "execution_count": 3,
   "id": "780f0035",
   "metadata": {},
   "outputs": [],
   "source": [
    "def preOrder(root):\n",
    "    #base condition\n",
    "    if not root:\n",
    "        return\n",
    "    print(root.getData(),end='->')\n",
    "    \n",
    "    #preorder of left sub tree\n",
    "    preOrder(root.getLeft())\n",
    "    \n",
    "    #preorder of right sub tree\n",
    "    preOrder(root.getRight())"
   ]
  },
  {
   "cell_type": "code",
   "execution_count": 4,
   "id": "1020a0b2",
   "metadata": {},
   "outputs": [
    {
     "name": "stdout",
     "output_type": "stream",
     "text": [
      "1->2->3->4->5->6->7->"
     ]
    }
   ],
   "source": [
    "preOrder(root)"
   ]
  },
  {
   "cell_type": "markdown",
   "id": "339d18fb",
   "metadata": {},
   "source": [
    "### In order"
   ]
  },
  {
   "cell_type": "code",
   "execution_count": 5,
   "id": "520d886b",
   "metadata": {},
   "outputs": [],
   "source": [
    "def inOrder(root):\n",
    "    #base condition\n",
    "    if not root:\n",
    "        return\n",
    "    #traverse the left sub tree\n",
    "    inOrder(root.getLeft())\n",
    "    print(root.getData(),end='->')\n",
    "    \n",
    "    #traverse right sub tree\n",
    "    inOrder(root.getRight())"
   ]
  },
  {
   "cell_type": "code",
   "execution_count": 6,
   "id": "6dfa92e2",
   "metadata": {},
   "outputs": [
    {
     "name": "stdout",
     "output_type": "stream",
     "text": [
      "3->2->4->1->6->5->7->"
     ]
    }
   ],
   "source": [
    "inOrder(root)"
   ]
  },
  {
   "cell_type": "markdown",
   "id": "2578312d",
   "metadata": {},
   "source": [
    "### Post Order"
   ]
  },
  {
   "cell_type": "code",
   "execution_count": 7,
   "id": "75224e9b",
   "metadata": {},
   "outputs": [],
   "source": [
    "def postOrder(root):\n",
    "    #base condition\n",
    "    if not root:\n",
    "        return\n",
    "    #traverse the left sub tree\n",
    "    postOrder(root.getLeft())\n",
    "    #traverse right sub tree\n",
    "    postOrder(root.getRight())\n",
    "    print(root.getData(),end='->')"
   ]
  },
  {
   "cell_type": "code",
   "execution_count": 8,
   "id": "4ad4f0ee",
   "metadata": {},
   "outputs": [
    {
     "name": "stdout",
     "output_type": "stream",
     "text": [
      "3->4->2->6->7->5->1->"
     ]
    }
   ],
   "source": [
    "postOrder(root)"
   ]
  },
  {
   "cell_type": "markdown",
   "id": "050d64eb",
   "metadata": {},
   "source": [
    "### level order traversal (BFS)"
   ]
  },
  {
   "cell_type": "code",
   "execution_count": 13,
   "id": "d17b3d3c",
   "metadata": {},
   "outputs": [],
   "source": [
    "class Node:\n",
    "    def __init__(self,data,next=None):\n",
    "        self.data=data\n",
    "        self.next=next\n",
    "        \n",
    "    def setData(self,data):\n",
    "        self.data=data\n",
    "        \n",
    "    def getData(self):\n",
    "        return self.data\n",
    "    \n",
    "    def setNext(self,next):\n",
    "        self.next=next\n",
    "        \n",
    "    def getNext(self):\n",
    "        return self.next"
   ]
  },
  {
   "cell_type": "code",
   "execution_count": 14,
   "id": "29bf3017",
   "metadata": {},
   "outputs": [],
   "source": [
    "class QueueLL:\n",
    "    def __init__(self):\n",
    "        self.head=None\n",
    "        self.tail=None\n",
    "        self.size=0\n",
    "    \n",
    "    def isEmpty(self):\n",
    "        return self.head == None \n",
    "    \n",
    "    def enQue(self, data):\n",
    "        node = Node(data)\n",
    "        \n",
    "        if self.isEmpty():\n",
    "            self.head=node\n",
    "            self.tail=node\n",
    "        else:\n",
    "            self.tail.setNext(node)\n",
    "            self.tail = self.tail.getNext()\n",
    "        self.size +=1\n",
    "        \n",
    "    def deQueue(self):\n",
    "        if self.isEmpty():\n",
    "            print(\"Queue underflow\")\n",
    "            return\n",
    "        \n",
    "        data = self.head.getData()\n",
    "        \n",
    "        #chek if it's the only element\n",
    "        if(self.head == self.tail):\n",
    "            self.head = None\n",
    "            self.tail= None #Becase after deQue, Queue will be empty\n",
    "        else:\n",
    "            self.head = self.head.getNext()\n",
    "        self.size -= 1\n",
    "        return data\n",
    "    \n",
    "    def traverse(self):\n",
    "        temp = self.head\n",
    "        while(temp ):\n",
    "            print(temp.getData(), end=\"->\")\n",
    "            temp = temp.getNext()\n",
    "        print()"
   ]
  },
  {
   "cell_type": "code",
   "execution_count": 15,
   "id": "98b51bdb",
   "metadata": {},
   "outputs": [],
   "source": [
    "def levelOrder(root):\n",
    "    if not root:\n",
    "        return\n",
    "    q=QueueLL()\n",
    "    q.enQue(root)\n",
    "    while not q.isEmpty():\n",
    "        temp=q.deQueue()\n",
    "        print(temp.getData(),end='->')\n",
    "        if temp.getLeft():\n",
    "            q.enQue(temp.getLeft())\n",
    "        if temp.getRight():\n",
    "            q.enQue(temp.getRight())"
   ]
  },
  {
   "cell_type": "code",
   "execution_count": 16,
   "id": "f7edb9c8",
   "metadata": {},
   "outputs": [
    {
     "name": "stdout",
     "output_type": "stream",
     "text": [
      "1->2->5->3->4->6->7->"
     ]
    }
   ],
   "source": [
    "levelOrder(root)"
   ]
  },
  {
   "cell_type": "markdown",
   "id": "a9ac76df",
   "metadata": {},
   "source": [
    "### find max"
   ]
  },
  {
   "cell_type": "code",
   "execution_count": 18,
   "id": "628efe30",
   "metadata": {},
   "outputs": [],
   "source": [
    "def maximum(a,b,c):\n",
    "    if a>=b :\n",
    "        if a>=c :\n",
    "            return a\n",
    "        else :\n",
    "            return c\n",
    "    else :\n",
    "        if b >=c :\n",
    "            return b\n",
    "        else :\n",
    "            return c"
   ]
  },
  {
   "cell_type": "code",
   "execution_count": 19,
   "id": "a8c91a56",
   "metadata": {},
   "outputs": [],
   "source": [
    "def max(root):\n",
    "    if not root :\n",
    "        return float('-inf') # represents the num smaller than all other numbers\n",
    "    max_left = max(root.getLeft())\n",
    "    max_right = max(root.getRight())\n",
    "    return maximum(max_left, max_right, root.getData())\n"
   ]
  },
  {
   "cell_type": "code",
   "execution_count": 20,
   "id": "c1bc4e48",
   "metadata": {},
   "outputs": [
    {
     "data": {
      "text/plain": [
       "7"
      ]
     },
     "execution_count": 20,
     "metadata": {},
     "output_type": "execute_result"
    }
   ],
   "source": [
    "max(root)"
   ]
  },
  {
   "cell_type": "markdown",
   "id": "68fb94ba",
   "metadata": {},
   "source": [
    "### find min"
   ]
  },
  {
   "cell_type": "code",
   "execution_count": 21,
   "id": "3f8d89be",
   "metadata": {},
   "outputs": [],
   "source": [
    "def minimum(a,b,c):\n",
    "    if a<=b:\n",
    "        if a<=c:\n",
    "            return a\n",
    "        else:\n",
    "            return c\n",
    "    else:\n",
    "        if b<=c:\n",
    "            return b\n",
    "        else:\n",
    "            return c"
   ]
  },
  {
   "cell_type": "code",
   "execution_count": 22,
   "id": "ee7a9567",
   "metadata": {},
   "outputs": [],
   "source": [
    "def min(root):\n",
    "    if not root:\n",
    "        return float('inf')\n",
    "\n",
    "    min_left = min(root.getLeft())\n",
    "    min_right = min(root.getRight())\n",
    "    return minimum(min_left, min_right, root.getData())"
   ]
  },
  {
   "cell_type": "code",
   "execution_count": 23,
   "id": "612a2c0a",
   "metadata": {},
   "outputs": [
    {
     "data": {
      "text/plain": [
       "1"
      ]
     },
     "execution_count": 23,
     "metadata": {},
     "output_type": "execute_result"
    }
   ],
   "source": [
    "min(root)"
   ]
  },
  {
   "cell_type": "code",
   "execution_count": null,
   "id": "a4606119",
   "metadata": {},
   "outputs": [],
   "source": []
  }
 ],
 "metadata": {
  "kernelspec": {
   "display_name": "Python 3 (ipykernel)",
   "language": "python",
   "name": "python3"
  },
  "language_info": {
   "codemirror_mode": {
    "name": "ipython",
    "version": 3
   },
   "file_extension": ".py",
   "mimetype": "text/x-python",
   "name": "python",
   "nbconvert_exporter": "python",
   "pygments_lexer": "ipython3",
   "version": "3.11.5"
  }
 },
 "nbformat": 4,
 "nbformat_minor": 5
}
